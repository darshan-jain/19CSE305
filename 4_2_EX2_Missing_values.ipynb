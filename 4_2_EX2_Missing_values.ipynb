{
  "nbformat": 4,
  "nbformat_minor": 0,
  "metadata": {
    "colab": {
      "name": "4.2_EX2_Missing_values.ipynb",
      "provenance": [],
      "include_colab_link": true
    },
    "kernelspec": {
      "name": "python3",
      "display_name": "Python 3"
    },
    "language_info": {
      "name": "python"
    }
  },
  "cells": [
    {
      "cell_type": "markdown",
      "metadata": {
        "id": "view-in-github",
        "colab_type": "text"
      },
      "source": [
        "<a href=\"https://colab.research.google.com/github/darshan-jain/19CSE305-ML/blob/main/4_2_EX2_Missing_values.ipynb\" target=\"_parent\"><img src=\"https://colab.research.google.com/assets/colab-badge.svg\" alt=\"Open In Colab\"/></a>"
      ]
    },
    {
      "cell_type": "markdown",
      "metadata": {
        "id": "PPdY6aWvMvtN"
      },
      "source": [
        "## Finding Missing Values\n"
      ]
    },
    {
      "cell_type": "markdown",
      "metadata": {
        "id": "Fz7UEJMTM-ip"
      },
      "source": [
        "Reasons for missing Data\n",
        "\n",
        "* User did not want to fill data due to privacy issues.\n",
        "* Loss of data while transferring\n",
        "* Insufficient information to fill a particular column, etc.\n",
        "\n",
        "There can be multiple reasons for missing values in a dataset"
      ]
    },
    {
      "cell_type": "code",
      "metadata": {
        "id": "8YLvoxcyBplQ"
      },
      "source": [
        "import pandas as pd\n",
        "dummy_df = pd.read_csv('https://raw.githubusercontent.com/darshan-jain/19CSE305-ML/main/dummy_data.csv')"
      ],
      "execution_count": 1,
      "outputs": []
    },
    {
      "cell_type": "code",
      "metadata": {
        "colab": {
          "base_uri": "https://localhost:8080/",
          "height": 297
        },
        "id": "4cT1bKnnNP_Y",
        "outputId": "26bc7132-595d-49d9-c575-dbe993ad5477"
      },
      "source": [
        "dummy_df.describe()"
      ],
      "execution_count": 2,
      "outputs": [
        {
          "output_type": "execute_result",
          "data": {
            "text/html": [
              "<div>\n",
              "<style scoped>\n",
              "    .dataframe tbody tr th:only-of-type {\n",
              "        vertical-align: middle;\n",
              "    }\n",
              "\n",
              "    .dataframe tbody tr th {\n",
              "        vertical-align: top;\n",
              "    }\n",
              "\n",
              "    .dataframe thead th {\n",
              "        text-align: right;\n",
              "    }\n",
              "</style>\n",
              "<table border=\"1\" class=\"dataframe\">\n",
              "  <thead>\n",
              "    <tr style=\"text-align: right;\">\n",
              "      <th></th>\n",
              "      <th>Sno</th>\n",
              "      <th>Age</th>\n",
              "      <th>Height(cm)</th>\n",
              "    </tr>\n",
              "  </thead>\n",
              "  <tbody>\n",
              "    <tr>\n",
              "      <th>count</th>\n",
              "      <td>9.000000</td>\n",
              "      <td>6.000000</td>\n",
              "      <td>7.000000</td>\n",
              "    </tr>\n",
              "    <tr>\n",
              "      <th>mean</th>\n",
              "      <td>5.000000</td>\n",
              "      <td>28.166667</td>\n",
              "      <td>154.857143</td>\n",
              "    </tr>\n",
              "    <tr>\n",
              "      <th>std</th>\n",
              "      <td>2.738613</td>\n",
              "      <td>2.316607</td>\n",
              "      <td>7.174691</td>\n",
              "    </tr>\n",
              "    <tr>\n",
              "      <th>min</th>\n",
              "      <td>1.000000</td>\n",
              "      <td>25.000000</td>\n",
              "      <td>143.000000</td>\n",
              "    </tr>\n",
              "    <tr>\n",
              "      <th>25%</th>\n",
              "      <td>3.000000</td>\n",
              "      <td>26.500000</td>\n",
              "      <td>151.000000</td>\n",
              "    </tr>\n",
              "    <tr>\n",
              "      <th>50%</th>\n",
              "      <td>5.000000</td>\n",
              "      <td>28.500000</td>\n",
              "      <td>156.000000</td>\n",
              "    </tr>\n",
              "    <tr>\n",
              "      <th>75%</th>\n",
              "      <td>7.000000</td>\n",
              "      <td>29.750000</td>\n",
              "      <td>160.000000</td>\n",
              "    </tr>\n",
              "    <tr>\n",
              "      <th>max</th>\n",
              "      <td>9.000000</td>\n",
              "      <td>31.000000</td>\n",
              "      <td>163.000000</td>\n",
              "    </tr>\n",
              "  </tbody>\n",
              "</table>\n",
              "</div>"
            ],
            "text/plain": [
              "            Sno        Age  Height(cm)\n",
              "count  9.000000   6.000000    7.000000\n",
              "mean   5.000000  28.166667  154.857143\n",
              "std    2.738613   2.316607    7.174691\n",
              "min    1.000000  25.000000  143.000000\n",
              "25%    3.000000  26.500000  151.000000\n",
              "50%    5.000000  28.500000  156.000000\n",
              "75%    7.000000  29.750000  160.000000\n",
              "max    9.000000  31.000000  163.000000"
            ]
          },
          "metadata": {
            "tags": []
          },
          "execution_count": 2
        }
      ]
    },
    {
      "cell_type": "markdown",
      "metadata": {
        "id": "7_nDv-3hNYcg"
      },
      "source": [
        "***Here count returns Non-null values***"
      ]
    },
    {
      "cell_type": "code",
      "metadata": {
        "colab": {
          "base_uri": "https://localhost:8080/"
        },
        "id": "dRkWWd8pNfXY",
        "outputId": "22b75b96-7734-421d-9811-647ce11fadb9"
      },
      "source": [
        "len(dummy_df)"
      ],
      "execution_count": 3,
      "outputs": [
        {
          "output_type": "execute_result",
          "data": {
            "text/plain": [
              "9"
            ]
          },
          "metadata": {
            "tags": []
          },
          "execution_count": 3
        }
      ]
    },
    {
      "cell_type": "code",
      "metadata": {
        "colab": {
          "base_uri": "https://localhost:8080/",
          "height": 328
        },
        "id": "nhGWJDLsNn92",
        "outputId": "9b99a0d9-3b2e-459e-b24b-1077ab433d03"
      },
      "source": [
        "dummy_df.isna()"
      ],
      "execution_count": 4,
      "outputs": [
        {
          "output_type": "execute_result",
          "data": {
            "text/html": [
              "<div>\n",
              "<style scoped>\n",
              "    .dataframe tbody tr th:only-of-type {\n",
              "        vertical-align: middle;\n",
              "    }\n",
              "\n",
              "    .dataframe tbody tr th {\n",
              "        vertical-align: top;\n",
              "    }\n",
              "\n",
              "    .dataframe thead th {\n",
              "        text-align: right;\n",
              "    }\n",
              "</style>\n",
              "<table border=\"1\" class=\"dataframe\">\n",
              "  <thead>\n",
              "    <tr style=\"text-align: right;\">\n",
              "      <th></th>\n",
              "      <th>Sno</th>\n",
              "      <th>Name</th>\n",
              "      <th>Age</th>\n",
              "      <th>Height(cm)</th>\n",
              "    </tr>\n",
              "  </thead>\n",
              "  <tbody>\n",
              "    <tr>\n",
              "      <th>0</th>\n",
              "      <td>False</td>\n",
              "      <td>False</td>\n",
              "      <td>False</td>\n",
              "      <td>False</td>\n",
              "    </tr>\n",
              "    <tr>\n",
              "      <th>1</th>\n",
              "      <td>False</td>\n",
              "      <td>False</td>\n",
              "      <td>False</td>\n",
              "      <td>False</td>\n",
              "    </tr>\n",
              "    <tr>\n",
              "      <th>2</th>\n",
              "      <td>False</td>\n",
              "      <td>False</td>\n",
              "      <td>False</td>\n",
              "      <td>False</td>\n",
              "    </tr>\n",
              "    <tr>\n",
              "      <th>3</th>\n",
              "      <td>False</td>\n",
              "      <td>False</td>\n",
              "      <td>True</td>\n",
              "      <td>False</td>\n",
              "    </tr>\n",
              "    <tr>\n",
              "      <th>4</th>\n",
              "      <td>False</td>\n",
              "      <td>False</td>\n",
              "      <td>True</td>\n",
              "      <td>True</td>\n",
              "    </tr>\n",
              "    <tr>\n",
              "      <th>5</th>\n",
              "      <td>False</td>\n",
              "      <td>False</td>\n",
              "      <td>False</td>\n",
              "      <td>False</td>\n",
              "    </tr>\n",
              "    <tr>\n",
              "      <th>6</th>\n",
              "      <td>False</td>\n",
              "      <td>False</td>\n",
              "      <td>False</td>\n",
              "      <td>False</td>\n",
              "    </tr>\n",
              "    <tr>\n",
              "      <th>7</th>\n",
              "      <td>False</td>\n",
              "      <td>False</td>\n",
              "      <td>False</td>\n",
              "      <td>True</td>\n",
              "    </tr>\n",
              "    <tr>\n",
              "      <th>8</th>\n",
              "      <td>False</td>\n",
              "      <td>False</td>\n",
              "      <td>True</td>\n",
              "      <td>False</td>\n",
              "    </tr>\n",
              "  </tbody>\n",
              "</table>\n",
              "</div>"
            ],
            "text/plain": [
              "     Sno   Name    Age  Height(cm)\n",
              "0  False  False  False       False\n",
              "1  False  False  False       False\n",
              "2  False  False  False       False\n",
              "3  False  False   True       False\n",
              "4  False  False   True        True\n",
              "5  False  False  False       False\n",
              "6  False  False  False       False\n",
              "7  False  False  False        True\n",
              "8  False  False   True       False"
            ]
          },
          "metadata": {
            "tags": []
          },
          "execution_count": 4
        }
      ]
    },
    {
      "cell_type": "code",
      "metadata": {
        "colab": {
          "base_uri": "https://localhost:8080/",
          "height": 328
        },
        "id": "OkX3078qNq-c",
        "outputId": "8988cf72-a739-40d5-d255-b83db6589f23"
      },
      "source": [
        "\n",
        "dummy_df.notna()"
      ],
      "execution_count": 5,
      "outputs": [
        {
          "output_type": "execute_result",
          "data": {
            "text/html": [
              "<div>\n",
              "<style scoped>\n",
              "    .dataframe tbody tr th:only-of-type {\n",
              "        vertical-align: middle;\n",
              "    }\n",
              "\n",
              "    .dataframe tbody tr th {\n",
              "        vertical-align: top;\n",
              "    }\n",
              "\n",
              "    .dataframe thead th {\n",
              "        text-align: right;\n",
              "    }\n",
              "</style>\n",
              "<table border=\"1\" class=\"dataframe\">\n",
              "  <thead>\n",
              "    <tr style=\"text-align: right;\">\n",
              "      <th></th>\n",
              "      <th>Sno</th>\n",
              "      <th>Name</th>\n",
              "      <th>Age</th>\n",
              "      <th>Height(cm)</th>\n",
              "    </tr>\n",
              "  </thead>\n",
              "  <tbody>\n",
              "    <tr>\n",
              "      <th>0</th>\n",
              "      <td>True</td>\n",
              "      <td>True</td>\n",
              "      <td>True</td>\n",
              "      <td>True</td>\n",
              "    </tr>\n",
              "    <tr>\n",
              "      <th>1</th>\n",
              "      <td>True</td>\n",
              "      <td>True</td>\n",
              "      <td>True</td>\n",
              "      <td>True</td>\n",
              "    </tr>\n",
              "    <tr>\n",
              "      <th>2</th>\n",
              "      <td>True</td>\n",
              "      <td>True</td>\n",
              "      <td>True</td>\n",
              "      <td>True</td>\n",
              "    </tr>\n",
              "    <tr>\n",
              "      <th>3</th>\n",
              "      <td>True</td>\n",
              "      <td>True</td>\n",
              "      <td>False</td>\n",
              "      <td>True</td>\n",
              "    </tr>\n",
              "    <tr>\n",
              "      <th>4</th>\n",
              "      <td>True</td>\n",
              "      <td>True</td>\n",
              "      <td>False</td>\n",
              "      <td>False</td>\n",
              "    </tr>\n",
              "    <tr>\n",
              "      <th>5</th>\n",
              "      <td>True</td>\n",
              "      <td>True</td>\n",
              "      <td>True</td>\n",
              "      <td>True</td>\n",
              "    </tr>\n",
              "    <tr>\n",
              "      <th>6</th>\n",
              "      <td>True</td>\n",
              "      <td>True</td>\n",
              "      <td>True</td>\n",
              "      <td>True</td>\n",
              "    </tr>\n",
              "    <tr>\n",
              "      <th>7</th>\n",
              "      <td>True</td>\n",
              "      <td>True</td>\n",
              "      <td>True</td>\n",
              "      <td>False</td>\n",
              "    </tr>\n",
              "    <tr>\n",
              "      <th>8</th>\n",
              "      <td>True</td>\n",
              "      <td>True</td>\n",
              "      <td>False</td>\n",
              "      <td>True</td>\n",
              "    </tr>\n",
              "  </tbody>\n",
              "</table>\n",
              "</div>"
            ],
            "text/plain": [
              "    Sno  Name    Age  Height(cm)\n",
              "0  True  True   True        True\n",
              "1  True  True   True        True\n",
              "2  True  True   True        True\n",
              "3  True  True  False        True\n",
              "4  True  True  False       False\n",
              "5  True  True   True        True\n",
              "6  True  True   True        True\n",
              "7  True  True   True       False\n",
              "8  True  True  False        True"
            ]
          },
          "metadata": {
            "tags": []
          },
          "execution_count": 5
        }
      ]
    },
    {
      "cell_type": "code",
      "metadata": {
        "colab": {
          "base_uri": "https://localhost:8080/",
          "height": 328
        },
        "id": "j3YyOduSNtz6",
        "outputId": "4c0173e5-da39-469b-c553-d6196bbe86b3"
      },
      "source": [
        "dummy_df.isnull()"
      ],
      "execution_count": 6,
      "outputs": [
        {
          "output_type": "execute_result",
          "data": {
            "text/html": [
              "<div>\n",
              "<style scoped>\n",
              "    .dataframe tbody tr th:only-of-type {\n",
              "        vertical-align: middle;\n",
              "    }\n",
              "\n",
              "    .dataframe tbody tr th {\n",
              "        vertical-align: top;\n",
              "    }\n",
              "\n",
              "    .dataframe thead th {\n",
              "        text-align: right;\n",
              "    }\n",
              "</style>\n",
              "<table border=\"1\" class=\"dataframe\">\n",
              "  <thead>\n",
              "    <tr style=\"text-align: right;\">\n",
              "      <th></th>\n",
              "      <th>Sno</th>\n",
              "      <th>Name</th>\n",
              "      <th>Age</th>\n",
              "      <th>Height(cm)</th>\n",
              "    </tr>\n",
              "  </thead>\n",
              "  <tbody>\n",
              "    <tr>\n",
              "      <th>0</th>\n",
              "      <td>False</td>\n",
              "      <td>False</td>\n",
              "      <td>False</td>\n",
              "      <td>False</td>\n",
              "    </tr>\n",
              "    <tr>\n",
              "      <th>1</th>\n",
              "      <td>False</td>\n",
              "      <td>False</td>\n",
              "      <td>False</td>\n",
              "      <td>False</td>\n",
              "    </tr>\n",
              "    <tr>\n",
              "      <th>2</th>\n",
              "      <td>False</td>\n",
              "      <td>False</td>\n",
              "      <td>False</td>\n",
              "      <td>False</td>\n",
              "    </tr>\n",
              "    <tr>\n",
              "      <th>3</th>\n",
              "      <td>False</td>\n",
              "      <td>False</td>\n",
              "      <td>True</td>\n",
              "      <td>False</td>\n",
              "    </tr>\n",
              "    <tr>\n",
              "      <th>4</th>\n",
              "      <td>False</td>\n",
              "      <td>False</td>\n",
              "      <td>True</td>\n",
              "      <td>True</td>\n",
              "    </tr>\n",
              "    <tr>\n",
              "      <th>5</th>\n",
              "      <td>False</td>\n",
              "      <td>False</td>\n",
              "      <td>False</td>\n",
              "      <td>False</td>\n",
              "    </tr>\n",
              "    <tr>\n",
              "      <th>6</th>\n",
              "      <td>False</td>\n",
              "      <td>False</td>\n",
              "      <td>False</td>\n",
              "      <td>False</td>\n",
              "    </tr>\n",
              "    <tr>\n",
              "      <th>7</th>\n",
              "      <td>False</td>\n",
              "      <td>False</td>\n",
              "      <td>False</td>\n",
              "      <td>True</td>\n",
              "    </tr>\n",
              "    <tr>\n",
              "      <th>8</th>\n",
              "      <td>False</td>\n",
              "      <td>False</td>\n",
              "      <td>True</td>\n",
              "      <td>False</td>\n",
              "    </tr>\n",
              "  </tbody>\n",
              "</table>\n",
              "</div>"
            ],
            "text/plain": [
              "     Sno   Name    Age  Height(cm)\n",
              "0  False  False  False       False\n",
              "1  False  False  False       False\n",
              "2  False  False  False       False\n",
              "3  False  False   True       False\n",
              "4  False  False   True        True\n",
              "5  False  False  False       False\n",
              "6  False  False  False       False\n",
              "7  False  False  False        True\n",
              "8  False  False   True       False"
            ]
          },
          "metadata": {
            "tags": []
          },
          "execution_count": 6
        }
      ]
    },
    {
      "cell_type": "markdown",
      "metadata": {
        "id": "TdgAh127NwnY"
      },
      "source": [
        "## **Finding count of missing values in each column**"
      ]
    },
    {
      "cell_type": "code",
      "metadata": {
        "colab": {
          "base_uri": "https://localhost:8080/"
        },
        "id": "--tPEDk8N0pc",
        "outputId": "ab390706-64b9-4a19-cead-be7a98000b1f"
      },
      "source": [
        "dummy_df.isnull().sum()"
      ],
      "execution_count": 7,
      "outputs": [
        {
          "output_type": "execute_result",
          "data": {
            "text/plain": [
              "Sno           0\n",
              "Name          0\n",
              "Age           3\n",
              "Height(cm)    2\n",
              "dtype: int64"
            ]
          },
          "metadata": {
            "tags": []
          },
          "execution_count": 7
        }
      ]
    },
    {
      "cell_type": "markdown",
      "metadata": {
        "id": "mrtyNcK7CBaj"
      },
      "source": [
        "# **Handling Missing Values**"
      ]
    },
    {
      "cell_type": "code",
      "metadata": {
        "colab": {
          "base_uri": "https://localhost:8080/",
          "height": 328
        },
        "id": "Pja3-YTLD-B7",
        "outputId": "96e38aaa-9ade-4be9-8083-7d9ac1f968b1"
      },
      "source": [
        "dummy_df"
      ],
      "execution_count": 8,
      "outputs": [
        {
          "output_type": "execute_result",
          "data": {
            "text/html": [
              "<div>\n",
              "<style scoped>\n",
              "    .dataframe tbody tr th:only-of-type {\n",
              "        vertical-align: middle;\n",
              "    }\n",
              "\n",
              "    .dataframe tbody tr th {\n",
              "        vertical-align: top;\n",
              "    }\n",
              "\n",
              "    .dataframe thead th {\n",
              "        text-align: right;\n",
              "    }\n",
              "</style>\n",
              "<table border=\"1\" class=\"dataframe\">\n",
              "  <thead>\n",
              "    <tr style=\"text-align: right;\">\n",
              "      <th></th>\n",
              "      <th>Sno</th>\n",
              "      <th>Name</th>\n",
              "      <th>Age</th>\n",
              "      <th>Height(cm)</th>\n",
              "    </tr>\n",
              "  </thead>\n",
              "  <tbody>\n",
              "    <tr>\n",
              "      <th>0</th>\n",
              "      <td>1</td>\n",
              "      <td>John</td>\n",
              "      <td>25.0</td>\n",
              "      <td>160.0</td>\n",
              "    </tr>\n",
              "    <tr>\n",
              "      <th>1</th>\n",
              "      <td>2</td>\n",
              "      <td>Jimmy</td>\n",
              "      <td>26.0</td>\n",
              "      <td>163.0</td>\n",
              "    </tr>\n",
              "    <tr>\n",
              "      <th>2</th>\n",
              "      <td>3</td>\n",
              "      <td>Felicia</td>\n",
              "      <td>28.0</td>\n",
              "      <td>154.0</td>\n",
              "    </tr>\n",
              "    <tr>\n",
              "      <th>3</th>\n",
              "      <td>4</td>\n",
              "      <td>Sophia</td>\n",
              "      <td>NaN</td>\n",
              "      <td>143.0</td>\n",
              "    </tr>\n",
              "    <tr>\n",
              "      <th>4</th>\n",
              "      <td>5</td>\n",
              "      <td>Bob</td>\n",
              "      <td>NaN</td>\n",
              "      <td>NaN</td>\n",
              "    </tr>\n",
              "    <tr>\n",
              "      <th>5</th>\n",
              "      <td>6</td>\n",
              "      <td>Billy</td>\n",
              "      <td>30.0</td>\n",
              "      <td>156.0</td>\n",
              "    </tr>\n",
              "    <tr>\n",
              "      <th>6</th>\n",
              "      <td>7</td>\n",
              "      <td>Kate</td>\n",
              "      <td>31.0</td>\n",
              "      <td>160.0</td>\n",
              "    </tr>\n",
              "    <tr>\n",
              "      <th>7</th>\n",
              "      <td>8</td>\n",
              "      <td>Will</td>\n",
              "      <td>29.0</td>\n",
              "      <td>NaN</td>\n",
              "    </tr>\n",
              "    <tr>\n",
              "      <th>8</th>\n",
              "      <td>9</td>\n",
              "      <td>Scott</td>\n",
              "      <td>NaN</td>\n",
              "      <td>148.0</td>\n",
              "    </tr>\n",
              "  </tbody>\n",
              "</table>\n",
              "</div>"
            ],
            "text/plain": [
              "   Sno     Name   Age  Height(cm)\n",
              "0    1     John  25.0       160.0\n",
              "1    2    Jimmy  26.0       163.0\n",
              "2    3  Felicia  28.0       154.0\n",
              "3    4   Sophia   NaN       143.0\n",
              "4    5      Bob   NaN         NaN\n",
              "5    6    Billy  30.0       156.0\n",
              "6    7     Kate  31.0       160.0\n",
              "7    8     Will  29.0         NaN\n",
              "8    9    Scott   NaN       148.0"
            ]
          },
          "metadata": {
            "tags": []
          },
          "execution_count": 8
        }
      ]
    },
    {
      "cell_type": "markdown",
      "metadata": {
        "id": "LeHGS2D2FGN3"
      },
      "source": [
        "# **1) Ignoring Missing Data**\n",
        "\n",
        "### 1.1 Ignoring rows with missing columns"
      ]
    },
    {
      "cell_type": "code",
      "metadata": {
        "colab": {
          "base_uri": "https://localhost:8080/",
          "height": 204
        },
        "id": "5153sSfeD_lS",
        "outputId": "7e870973-1fec-4a9c-f57f-4dacbec5477c"
      },
      "source": [
        "removed_df = dummy_df.dropna()\n",
        "removed_df"
      ],
      "execution_count": 9,
      "outputs": [
        {
          "output_type": "execute_result",
          "data": {
            "text/html": [
              "<div>\n",
              "<style scoped>\n",
              "    .dataframe tbody tr th:only-of-type {\n",
              "        vertical-align: middle;\n",
              "    }\n",
              "\n",
              "    .dataframe tbody tr th {\n",
              "        vertical-align: top;\n",
              "    }\n",
              "\n",
              "    .dataframe thead th {\n",
              "        text-align: right;\n",
              "    }\n",
              "</style>\n",
              "<table border=\"1\" class=\"dataframe\">\n",
              "  <thead>\n",
              "    <tr style=\"text-align: right;\">\n",
              "      <th></th>\n",
              "      <th>Sno</th>\n",
              "      <th>Name</th>\n",
              "      <th>Age</th>\n",
              "      <th>Height(cm)</th>\n",
              "    </tr>\n",
              "  </thead>\n",
              "  <tbody>\n",
              "    <tr>\n",
              "      <th>0</th>\n",
              "      <td>1</td>\n",
              "      <td>John</td>\n",
              "      <td>25.0</td>\n",
              "      <td>160.0</td>\n",
              "    </tr>\n",
              "    <tr>\n",
              "      <th>1</th>\n",
              "      <td>2</td>\n",
              "      <td>Jimmy</td>\n",
              "      <td>26.0</td>\n",
              "      <td>163.0</td>\n",
              "    </tr>\n",
              "    <tr>\n",
              "      <th>2</th>\n",
              "      <td>3</td>\n",
              "      <td>Felicia</td>\n",
              "      <td>28.0</td>\n",
              "      <td>154.0</td>\n",
              "    </tr>\n",
              "    <tr>\n",
              "      <th>5</th>\n",
              "      <td>6</td>\n",
              "      <td>Billy</td>\n",
              "      <td>30.0</td>\n",
              "      <td>156.0</td>\n",
              "    </tr>\n",
              "    <tr>\n",
              "      <th>6</th>\n",
              "      <td>7</td>\n",
              "      <td>Kate</td>\n",
              "      <td>31.0</td>\n",
              "      <td>160.0</td>\n",
              "    </tr>\n",
              "  </tbody>\n",
              "</table>\n",
              "</div>"
            ],
            "text/plain": [
              "   Sno     Name   Age  Height(cm)\n",
              "0    1     John  25.0       160.0\n",
              "1    2    Jimmy  26.0       163.0\n",
              "2    3  Felicia  28.0       154.0\n",
              "5    6    Billy  30.0       156.0\n",
              "6    7     Kate  31.0       160.0"
            ]
          },
          "metadata": {
            "tags": []
          },
          "execution_count": 9
        }
      ]
    },
    {
      "cell_type": "markdown",
      "metadata": {
        "id": "UZHENAVKFz6O"
      },
      "source": [
        "## 1.2) Removing rows with majority columns as missing"
      ]
    },
    {
      "cell_type": "code",
      "metadata": {
        "id": "ZMQYVF9zFcjy"
      },
      "source": [
        "dummy_majority_df = pd.read_csv('https://raw.githubusercontent.com/darshan-jain/19CSE305-ML/main/dummy_missing_majority.csv')"
      ],
      "execution_count": 10,
      "outputs": []
    },
    {
      "cell_type": "code",
      "metadata": {
        "colab": {
          "base_uri": "https://localhost:8080/",
          "height": 328
        },
        "id": "onmN1e1KG3EJ",
        "outputId": "8e6fc26a-8d2e-4864-9506-6d60a7f4cf9a"
      },
      "source": [
        "dummy_majority_df "
      ],
      "execution_count": 11,
      "outputs": [
        {
          "output_type": "execute_result",
          "data": {
            "text/html": [
              "<div>\n",
              "<style scoped>\n",
              "    .dataframe tbody tr th:only-of-type {\n",
              "        vertical-align: middle;\n",
              "    }\n",
              "\n",
              "    .dataframe tbody tr th {\n",
              "        vertical-align: top;\n",
              "    }\n",
              "\n",
              "    .dataframe thead th {\n",
              "        text-align: right;\n",
              "    }\n",
              "</style>\n",
              "<table border=\"1\" class=\"dataframe\">\n",
              "  <thead>\n",
              "    <tr style=\"text-align: right;\">\n",
              "      <th></th>\n",
              "      <th>Sno</th>\n",
              "      <th>Name</th>\n",
              "      <th>Age</th>\n",
              "      <th>Height(cm)</th>\n",
              "      <th>Marks(100)</th>\n",
              "      <th>Country</th>\n",
              "      <th>City</th>\n",
              "    </tr>\n",
              "  </thead>\n",
              "  <tbody>\n",
              "    <tr>\n",
              "      <th>0</th>\n",
              "      <td>1</td>\n",
              "      <td>John</td>\n",
              "      <td>25.0</td>\n",
              "      <td>160.0</td>\n",
              "      <td>80.0</td>\n",
              "      <td>USA</td>\n",
              "      <td>New York</td>\n",
              "    </tr>\n",
              "    <tr>\n",
              "      <th>1</th>\n",
              "      <td>2</td>\n",
              "      <td>Jimmy</td>\n",
              "      <td>26.0</td>\n",
              "      <td>163.0</td>\n",
              "      <td>NaN</td>\n",
              "      <td>UK</td>\n",
              "      <td>London</td>\n",
              "    </tr>\n",
              "    <tr>\n",
              "      <th>2</th>\n",
              "      <td>3</td>\n",
              "      <td>Felicia</td>\n",
              "      <td>28.0</td>\n",
              "      <td>154.0</td>\n",
              "      <td>NaN</td>\n",
              "      <td>USA</td>\n",
              "      <td>Miami</td>\n",
              "    </tr>\n",
              "    <tr>\n",
              "      <th>3</th>\n",
              "      <td>4</td>\n",
              "      <td>Sophia</td>\n",
              "      <td>NaN</td>\n",
              "      <td>143.0</td>\n",
              "      <td>NaN</td>\n",
              "      <td>NaN</td>\n",
              "      <td>NaN</td>\n",
              "    </tr>\n",
              "    <tr>\n",
              "      <th>4</th>\n",
              "      <td>5</td>\n",
              "      <td>Bob</td>\n",
              "      <td>NaN</td>\n",
              "      <td>NaN</td>\n",
              "      <td>NaN</td>\n",
              "      <td>NaN</td>\n",
              "      <td>NaN</td>\n",
              "    </tr>\n",
              "    <tr>\n",
              "      <th>5</th>\n",
              "      <td>6</td>\n",
              "      <td>Billy</td>\n",
              "      <td>30.0</td>\n",
              "      <td>156.0</td>\n",
              "      <td>NaN</td>\n",
              "      <td>France</td>\n",
              "      <td>Paris</td>\n",
              "    </tr>\n",
              "    <tr>\n",
              "      <th>6</th>\n",
              "      <td>7</td>\n",
              "      <td>Kate</td>\n",
              "      <td>31.0</td>\n",
              "      <td>160.0</td>\n",
              "      <td>NaN</td>\n",
              "      <td>Italy</td>\n",
              "      <td>Rome</td>\n",
              "    </tr>\n",
              "    <tr>\n",
              "      <th>7</th>\n",
              "      <td>8</td>\n",
              "      <td>Will</td>\n",
              "      <td>29.0</td>\n",
              "      <td>NaN</td>\n",
              "      <td>NaN</td>\n",
              "      <td>Russia</td>\n",
              "      <td>Moscow</td>\n",
              "    </tr>\n",
              "    <tr>\n",
              "      <th>8</th>\n",
              "      <td>9</td>\n",
              "      <td>Scott</td>\n",
              "      <td>NaN</td>\n",
              "      <td>148.0</td>\n",
              "      <td>NaN</td>\n",
              "      <td>NaN</td>\n",
              "      <td>NaN</td>\n",
              "    </tr>\n",
              "  </tbody>\n",
              "</table>\n",
              "</div>"
            ],
            "text/plain": [
              "   Sno     Name   Age  Height(cm)  Marks(100) Country      City\n",
              "0    1     John  25.0       160.0        80.0     USA  New York\n",
              "1    2    Jimmy  26.0       163.0         NaN      UK    London\n",
              "2    3  Felicia  28.0       154.0         NaN     USA     Miami\n",
              "3    4   Sophia   NaN       143.0         NaN     NaN       NaN\n",
              "4    5      Bob   NaN         NaN         NaN     NaN       NaN\n",
              "5    6    Billy  30.0       156.0         NaN  France     Paris\n",
              "6    7     Kate  31.0       160.0         NaN   Italy      Rome\n",
              "7    8     Will  29.0         NaN         NaN  Russia    Moscow\n",
              "8    9    Scott   NaN       148.0         NaN     NaN       NaN"
            ]
          },
          "metadata": {
            "tags": []
          },
          "execution_count": 11
        }
      ]
    },
    {
      "cell_type": "markdown",
      "metadata": {
        "id": "DC1VVM3PHQuS"
      },
      "source": [
        "**thresh=x** attribute tells df.dropna() to keep rows with atleast 'x' Non-Null valuesthresh=x attribute tells df.dropna() to keep rows with atleast 'x' Non-Null values"
      ]
    },
    {
      "cell_type": "code",
      "metadata": {
        "colab": {
          "base_uri": "https://localhost:8080/",
          "height": 235
        },
        "id": "lt2qT858HSFh",
        "outputId": "01a2c2c2-4c21-4cc8-e53d-d62478d01674"
      },
      "source": [
        "dummy_majority_df.dropna(thresh=4)"
      ],
      "execution_count": 12,
      "outputs": [
        {
          "output_type": "execute_result",
          "data": {
            "text/html": [
              "<div>\n",
              "<style scoped>\n",
              "    .dataframe tbody tr th:only-of-type {\n",
              "        vertical-align: middle;\n",
              "    }\n",
              "\n",
              "    .dataframe tbody tr th {\n",
              "        vertical-align: top;\n",
              "    }\n",
              "\n",
              "    .dataframe thead th {\n",
              "        text-align: right;\n",
              "    }\n",
              "</style>\n",
              "<table border=\"1\" class=\"dataframe\">\n",
              "  <thead>\n",
              "    <tr style=\"text-align: right;\">\n",
              "      <th></th>\n",
              "      <th>Sno</th>\n",
              "      <th>Name</th>\n",
              "      <th>Age</th>\n",
              "      <th>Height(cm)</th>\n",
              "      <th>Marks(100)</th>\n",
              "      <th>Country</th>\n",
              "      <th>City</th>\n",
              "    </tr>\n",
              "  </thead>\n",
              "  <tbody>\n",
              "    <tr>\n",
              "      <th>0</th>\n",
              "      <td>1</td>\n",
              "      <td>John</td>\n",
              "      <td>25.0</td>\n",
              "      <td>160.0</td>\n",
              "      <td>80.0</td>\n",
              "      <td>USA</td>\n",
              "      <td>New York</td>\n",
              "    </tr>\n",
              "    <tr>\n",
              "      <th>1</th>\n",
              "      <td>2</td>\n",
              "      <td>Jimmy</td>\n",
              "      <td>26.0</td>\n",
              "      <td>163.0</td>\n",
              "      <td>NaN</td>\n",
              "      <td>UK</td>\n",
              "      <td>London</td>\n",
              "    </tr>\n",
              "    <tr>\n",
              "      <th>2</th>\n",
              "      <td>3</td>\n",
              "      <td>Felicia</td>\n",
              "      <td>28.0</td>\n",
              "      <td>154.0</td>\n",
              "      <td>NaN</td>\n",
              "      <td>USA</td>\n",
              "      <td>Miami</td>\n",
              "    </tr>\n",
              "    <tr>\n",
              "      <th>5</th>\n",
              "      <td>6</td>\n",
              "      <td>Billy</td>\n",
              "      <td>30.0</td>\n",
              "      <td>156.0</td>\n",
              "      <td>NaN</td>\n",
              "      <td>France</td>\n",
              "      <td>Paris</td>\n",
              "    </tr>\n",
              "    <tr>\n",
              "      <th>6</th>\n",
              "      <td>7</td>\n",
              "      <td>Kate</td>\n",
              "      <td>31.0</td>\n",
              "      <td>160.0</td>\n",
              "      <td>NaN</td>\n",
              "      <td>Italy</td>\n",
              "      <td>Rome</td>\n",
              "    </tr>\n",
              "    <tr>\n",
              "      <th>7</th>\n",
              "      <td>8</td>\n",
              "      <td>Will</td>\n",
              "      <td>29.0</td>\n",
              "      <td>NaN</td>\n",
              "      <td>NaN</td>\n",
              "      <td>Russia</td>\n",
              "      <td>Moscow</td>\n",
              "    </tr>\n",
              "  </tbody>\n",
              "</table>\n",
              "</div>"
            ],
            "text/plain": [
              "   Sno     Name   Age  Height(cm)  Marks(100) Country      City\n",
              "0    1     John  25.0       160.0        80.0     USA  New York\n",
              "1    2    Jimmy  26.0       163.0         NaN      UK    London\n",
              "2    3  Felicia  28.0       154.0         NaN     USA     Miami\n",
              "5    6    Billy  30.0       156.0         NaN  France     Paris\n",
              "6    7     Kate  31.0       160.0         NaN   Italy      Rome\n",
              "7    8     Will  29.0         NaN         NaN  Russia    Moscow"
            ]
          },
          "metadata": {
            "tags": []
          },
          "execution_count": 12
        }
      ]
    },
    {
      "cell_type": "code",
      "metadata": {
        "colab": {
          "base_uri": "https://localhost:8080/",
          "height": 204
        },
        "id": "bC0NmT_1Hg_6",
        "outputId": "af2d8129-7dcd-445a-dbc9-57ec0d69fc6e"
      },
      "source": [
        "dummy_majority_df.dropna(thresh=6)"
      ],
      "execution_count": 13,
      "outputs": [
        {
          "output_type": "execute_result",
          "data": {
            "text/html": [
              "<div>\n",
              "<style scoped>\n",
              "    .dataframe tbody tr th:only-of-type {\n",
              "        vertical-align: middle;\n",
              "    }\n",
              "\n",
              "    .dataframe tbody tr th {\n",
              "        vertical-align: top;\n",
              "    }\n",
              "\n",
              "    .dataframe thead th {\n",
              "        text-align: right;\n",
              "    }\n",
              "</style>\n",
              "<table border=\"1\" class=\"dataframe\">\n",
              "  <thead>\n",
              "    <tr style=\"text-align: right;\">\n",
              "      <th></th>\n",
              "      <th>Sno</th>\n",
              "      <th>Name</th>\n",
              "      <th>Age</th>\n",
              "      <th>Height(cm)</th>\n",
              "      <th>Marks(100)</th>\n",
              "      <th>Country</th>\n",
              "      <th>City</th>\n",
              "    </tr>\n",
              "  </thead>\n",
              "  <tbody>\n",
              "    <tr>\n",
              "      <th>0</th>\n",
              "      <td>1</td>\n",
              "      <td>John</td>\n",
              "      <td>25.0</td>\n",
              "      <td>160.0</td>\n",
              "      <td>80.0</td>\n",
              "      <td>USA</td>\n",
              "      <td>New York</td>\n",
              "    </tr>\n",
              "    <tr>\n",
              "      <th>1</th>\n",
              "      <td>2</td>\n",
              "      <td>Jimmy</td>\n",
              "      <td>26.0</td>\n",
              "      <td>163.0</td>\n",
              "      <td>NaN</td>\n",
              "      <td>UK</td>\n",
              "      <td>London</td>\n",
              "    </tr>\n",
              "    <tr>\n",
              "      <th>2</th>\n",
              "      <td>3</td>\n",
              "      <td>Felicia</td>\n",
              "      <td>28.0</td>\n",
              "      <td>154.0</td>\n",
              "      <td>NaN</td>\n",
              "      <td>USA</td>\n",
              "      <td>Miami</td>\n",
              "    </tr>\n",
              "    <tr>\n",
              "      <th>5</th>\n",
              "      <td>6</td>\n",
              "      <td>Billy</td>\n",
              "      <td>30.0</td>\n",
              "      <td>156.0</td>\n",
              "      <td>NaN</td>\n",
              "      <td>France</td>\n",
              "      <td>Paris</td>\n",
              "    </tr>\n",
              "    <tr>\n",
              "      <th>6</th>\n",
              "      <td>7</td>\n",
              "      <td>Kate</td>\n",
              "      <td>31.0</td>\n",
              "      <td>160.0</td>\n",
              "      <td>NaN</td>\n",
              "      <td>Italy</td>\n",
              "      <td>Rome</td>\n",
              "    </tr>\n",
              "  </tbody>\n",
              "</table>\n",
              "</div>"
            ],
            "text/plain": [
              "   Sno     Name   Age  Height(cm)  Marks(100) Country      City\n",
              "0    1     John  25.0       160.0        80.0     USA  New York\n",
              "1    2    Jimmy  26.0       163.0         NaN      UK    London\n",
              "2    3  Felicia  28.0       154.0         NaN     USA     Miami\n",
              "5    6    Billy  30.0       156.0         NaN  France     Paris\n",
              "6    7     Kate  31.0       160.0         NaN   Italy      Rome"
            ]
          },
          "metadata": {
            "tags": []
          },
          "execution_count": 13
        }
      ]
    },
    {
      "cell_type": "code",
      "metadata": {
        "colab": {
          "base_uri": "https://localhost:8080/",
          "height": 80
        },
        "id": "PdNAHbAHHkv_",
        "outputId": "e5ae54d5-ea6d-4bfb-9eb7-84b25c76ddaf"
      },
      "source": [
        "dummy_majority_df.dropna(thresh=7)"
      ],
      "execution_count": 14,
      "outputs": [
        {
          "output_type": "execute_result",
          "data": {
            "text/html": [
              "<div>\n",
              "<style scoped>\n",
              "    .dataframe tbody tr th:only-of-type {\n",
              "        vertical-align: middle;\n",
              "    }\n",
              "\n",
              "    .dataframe tbody tr th {\n",
              "        vertical-align: top;\n",
              "    }\n",
              "\n",
              "    .dataframe thead th {\n",
              "        text-align: right;\n",
              "    }\n",
              "</style>\n",
              "<table border=\"1\" class=\"dataframe\">\n",
              "  <thead>\n",
              "    <tr style=\"text-align: right;\">\n",
              "      <th></th>\n",
              "      <th>Sno</th>\n",
              "      <th>Name</th>\n",
              "      <th>Age</th>\n",
              "      <th>Height(cm)</th>\n",
              "      <th>Marks(100)</th>\n",
              "      <th>Country</th>\n",
              "      <th>City</th>\n",
              "    </tr>\n",
              "  </thead>\n",
              "  <tbody>\n",
              "    <tr>\n",
              "      <th>0</th>\n",
              "      <td>1</td>\n",
              "      <td>John</td>\n",
              "      <td>25.0</td>\n",
              "      <td>160.0</td>\n",
              "      <td>80.0</td>\n",
              "      <td>USA</td>\n",
              "      <td>New York</td>\n",
              "    </tr>\n",
              "  </tbody>\n",
              "</table>\n",
              "</div>"
            ],
            "text/plain": [
              "   Sno  Name   Age  Height(cm)  Marks(100) Country      City\n",
              "0    1  John  25.0       160.0        80.0     USA  New York"
            ]
          },
          "metadata": {
            "tags": []
          },
          "execution_count": 14
        }
      ]
    },
    {
      "cell_type": "markdown",
      "metadata": {
        "id": "2EEHAluEJNiW"
      },
      "source": [
        "## 1.3) Dropping columns by percentage of missing values\n",
        "\n",
        "Drop columns with say over 40% empty values\n",
        "\n",
        "Note : axis=0 is for rows and axis=1 is for columns"
      ]
    },
    {
      "cell_type": "code",
      "metadata": {
        "colab": {
          "base_uri": "https://localhost:8080/",
          "height": 345
        },
        "id": "ygabK6NbJXnX",
        "outputId": "770a12b3-ed55-429a-a009-422b2ccf50e6"
      },
      "source": [
        "L=len(dummy_majority_df)\n",
        "print(\"Length of the dataframe\",L)\n",
        "\n",
        "dummy_majority_df.dropna(axis=1, thresh=int(0.4*L))"
      ],
      "execution_count": 15,
      "outputs": [
        {
          "output_type": "stream",
          "text": [
            "Length of the dataframe 9\n"
          ],
          "name": "stdout"
        },
        {
          "output_type": "execute_result",
          "data": {
            "text/html": [
              "<div>\n",
              "<style scoped>\n",
              "    .dataframe tbody tr th:only-of-type {\n",
              "        vertical-align: middle;\n",
              "    }\n",
              "\n",
              "    .dataframe tbody tr th {\n",
              "        vertical-align: top;\n",
              "    }\n",
              "\n",
              "    .dataframe thead th {\n",
              "        text-align: right;\n",
              "    }\n",
              "</style>\n",
              "<table border=\"1\" class=\"dataframe\">\n",
              "  <thead>\n",
              "    <tr style=\"text-align: right;\">\n",
              "      <th></th>\n",
              "      <th>Sno</th>\n",
              "      <th>Name</th>\n",
              "      <th>Age</th>\n",
              "      <th>Height(cm)</th>\n",
              "      <th>Country</th>\n",
              "      <th>City</th>\n",
              "    </tr>\n",
              "  </thead>\n",
              "  <tbody>\n",
              "    <tr>\n",
              "      <th>0</th>\n",
              "      <td>1</td>\n",
              "      <td>John</td>\n",
              "      <td>25.0</td>\n",
              "      <td>160.0</td>\n",
              "      <td>USA</td>\n",
              "      <td>New York</td>\n",
              "    </tr>\n",
              "    <tr>\n",
              "      <th>1</th>\n",
              "      <td>2</td>\n",
              "      <td>Jimmy</td>\n",
              "      <td>26.0</td>\n",
              "      <td>163.0</td>\n",
              "      <td>UK</td>\n",
              "      <td>London</td>\n",
              "    </tr>\n",
              "    <tr>\n",
              "      <th>2</th>\n",
              "      <td>3</td>\n",
              "      <td>Felicia</td>\n",
              "      <td>28.0</td>\n",
              "      <td>154.0</td>\n",
              "      <td>USA</td>\n",
              "      <td>Miami</td>\n",
              "    </tr>\n",
              "    <tr>\n",
              "      <th>3</th>\n",
              "      <td>4</td>\n",
              "      <td>Sophia</td>\n",
              "      <td>NaN</td>\n",
              "      <td>143.0</td>\n",
              "      <td>NaN</td>\n",
              "      <td>NaN</td>\n",
              "    </tr>\n",
              "    <tr>\n",
              "      <th>4</th>\n",
              "      <td>5</td>\n",
              "      <td>Bob</td>\n",
              "      <td>NaN</td>\n",
              "      <td>NaN</td>\n",
              "      <td>NaN</td>\n",
              "      <td>NaN</td>\n",
              "    </tr>\n",
              "    <tr>\n",
              "      <th>5</th>\n",
              "      <td>6</td>\n",
              "      <td>Billy</td>\n",
              "      <td>30.0</td>\n",
              "      <td>156.0</td>\n",
              "      <td>France</td>\n",
              "      <td>Paris</td>\n",
              "    </tr>\n",
              "    <tr>\n",
              "      <th>6</th>\n",
              "      <td>7</td>\n",
              "      <td>Kate</td>\n",
              "      <td>31.0</td>\n",
              "      <td>160.0</td>\n",
              "      <td>Italy</td>\n",
              "      <td>Rome</td>\n",
              "    </tr>\n",
              "    <tr>\n",
              "      <th>7</th>\n",
              "      <td>8</td>\n",
              "      <td>Will</td>\n",
              "      <td>29.0</td>\n",
              "      <td>NaN</td>\n",
              "      <td>Russia</td>\n",
              "      <td>Moscow</td>\n",
              "    </tr>\n",
              "    <tr>\n",
              "      <th>8</th>\n",
              "      <td>9</td>\n",
              "      <td>Scott</td>\n",
              "      <td>NaN</td>\n",
              "      <td>148.0</td>\n",
              "      <td>NaN</td>\n",
              "      <td>NaN</td>\n",
              "    </tr>\n",
              "  </tbody>\n",
              "</table>\n",
              "</div>"
            ],
            "text/plain": [
              "   Sno     Name   Age  Height(cm) Country      City\n",
              "0    1     John  25.0       160.0     USA  New York\n",
              "1    2    Jimmy  26.0       163.0      UK    London\n",
              "2    3  Felicia  28.0       154.0     USA     Miami\n",
              "3    4   Sophia   NaN       143.0     NaN       NaN\n",
              "4    5      Bob   NaN         NaN     NaN       NaN\n",
              "5    6    Billy  30.0       156.0  France     Paris\n",
              "6    7     Kate  31.0       160.0   Italy      Rome\n",
              "7    8     Will  29.0         NaN  Russia    Moscow\n",
              "8    9    Scott   NaN       148.0     NaN       NaN"
            ]
          },
          "metadata": {
            "tags": []
          },
          "execution_count": 15
        }
      ]
    },
    {
      "cell_type": "markdown",
      "metadata": {
        "id": "lpnbuzRgKYYC"
      },
      "source": [
        "## 1.4) Dropping rows with majority columns as null values\n",
        "\n",
        "Keep rows with atleast 60% of values filled"
      ]
    },
    {
      "cell_type": "code",
      "metadata": {
        "colab": {
          "base_uri": "https://localhost:8080/",
          "height": 235
        },
        "id": "rrUBC8XHKdxm",
        "outputId": "e34ccef6-7d72-421a-89ff-1011f147a4a1"
      },
      "source": [
        "dummy_majority_df.dropna(axis=0, thresh=int(0.6*len(dummy_majority_df.columns)))"
      ],
      "execution_count": 16,
      "outputs": [
        {
          "output_type": "execute_result",
          "data": {
            "text/html": [
              "<div>\n",
              "<style scoped>\n",
              "    .dataframe tbody tr th:only-of-type {\n",
              "        vertical-align: middle;\n",
              "    }\n",
              "\n",
              "    .dataframe tbody tr th {\n",
              "        vertical-align: top;\n",
              "    }\n",
              "\n",
              "    .dataframe thead th {\n",
              "        text-align: right;\n",
              "    }\n",
              "</style>\n",
              "<table border=\"1\" class=\"dataframe\">\n",
              "  <thead>\n",
              "    <tr style=\"text-align: right;\">\n",
              "      <th></th>\n",
              "      <th>Sno</th>\n",
              "      <th>Name</th>\n",
              "      <th>Age</th>\n",
              "      <th>Height(cm)</th>\n",
              "      <th>Marks(100)</th>\n",
              "      <th>Country</th>\n",
              "      <th>City</th>\n",
              "    </tr>\n",
              "  </thead>\n",
              "  <tbody>\n",
              "    <tr>\n",
              "      <th>0</th>\n",
              "      <td>1</td>\n",
              "      <td>John</td>\n",
              "      <td>25.0</td>\n",
              "      <td>160.0</td>\n",
              "      <td>80.0</td>\n",
              "      <td>USA</td>\n",
              "      <td>New York</td>\n",
              "    </tr>\n",
              "    <tr>\n",
              "      <th>1</th>\n",
              "      <td>2</td>\n",
              "      <td>Jimmy</td>\n",
              "      <td>26.0</td>\n",
              "      <td>163.0</td>\n",
              "      <td>NaN</td>\n",
              "      <td>UK</td>\n",
              "      <td>London</td>\n",
              "    </tr>\n",
              "    <tr>\n",
              "      <th>2</th>\n",
              "      <td>3</td>\n",
              "      <td>Felicia</td>\n",
              "      <td>28.0</td>\n",
              "      <td>154.0</td>\n",
              "      <td>NaN</td>\n",
              "      <td>USA</td>\n",
              "      <td>Miami</td>\n",
              "    </tr>\n",
              "    <tr>\n",
              "      <th>5</th>\n",
              "      <td>6</td>\n",
              "      <td>Billy</td>\n",
              "      <td>30.0</td>\n",
              "      <td>156.0</td>\n",
              "      <td>NaN</td>\n",
              "      <td>France</td>\n",
              "      <td>Paris</td>\n",
              "    </tr>\n",
              "    <tr>\n",
              "      <th>6</th>\n",
              "      <td>7</td>\n",
              "      <td>Kate</td>\n",
              "      <td>31.0</td>\n",
              "      <td>160.0</td>\n",
              "      <td>NaN</td>\n",
              "      <td>Italy</td>\n",
              "      <td>Rome</td>\n",
              "    </tr>\n",
              "    <tr>\n",
              "      <th>7</th>\n",
              "      <td>8</td>\n",
              "      <td>Will</td>\n",
              "      <td>29.0</td>\n",
              "      <td>NaN</td>\n",
              "      <td>NaN</td>\n",
              "      <td>Russia</td>\n",
              "      <td>Moscow</td>\n",
              "    </tr>\n",
              "  </tbody>\n",
              "</table>\n",
              "</div>"
            ],
            "text/plain": [
              "   Sno     Name   Age  Height(cm)  Marks(100) Country      City\n",
              "0    1     John  25.0       160.0        80.0     USA  New York\n",
              "1    2    Jimmy  26.0       163.0         NaN      UK    London\n",
              "2    3  Felicia  28.0       154.0         NaN     USA     Miami\n",
              "5    6    Billy  30.0       156.0         NaN  France     Paris\n",
              "6    7     Kate  31.0       160.0         NaN   Italy      Rome\n",
              "7    8     Will  29.0         NaN         NaN  Russia    Moscow"
            ]
          },
          "metadata": {
            "tags": []
          },
          "execution_count": 16
        }
      ]
    },
    {
      "cell_type": "markdown",
      "metadata": {
        "id": "5dLf3KESLdAM"
      },
      "source": [
        "# **2) Imputation**\n",
        "\n",
        "\n",
        "### 2.1 Filling with generic values"
      ]
    },
    {
      "cell_type": "code",
      "metadata": {
        "colab": {
          "base_uri": "https://localhost:8080/",
          "height": 328
        },
        "id": "e9WzrvLwLf2N",
        "outputId": "318a4167-e3a0-4600-c30c-00cafc04c6f8"
      },
      "source": [
        "\n",
        "dummy_df = pd.read_csv('https://raw.githubusercontent.com/darshan-jain/19CSE305-ML/main/dummy_data.csv')\n",
        "dummy_df"
      ],
      "execution_count": 17,
      "outputs": [
        {
          "output_type": "execute_result",
          "data": {
            "text/html": [
              "<div>\n",
              "<style scoped>\n",
              "    .dataframe tbody tr th:only-of-type {\n",
              "        vertical-align: middle;\n",
              "    }\n",
              "\n",
              "    .dataframe tbody tr th {\n",
              "        vertical-align: top;\n",
              "    }\n",
              "\n",
              "    .dataframe thead th {\n",
              "        text-align: right;\n",
              "    }\n",
              "</style>\n",
              "<table border=\"1\" class=\"dataframe\">\n",
              "  <thead>\n",
              "    <tr style=\"text-align: right;\">\n",
              "      <th></th>\n",
              "      <th>Sno</th>\n",
              "      <th>Name</th>\n",
              "      <th>Age</th>\n",
              "      <th>Height(cm)</th>\n",
              "    </tr>\n",
              "  </thead>\n",
              "  <tbody>\n",
              "    <tr>\n",
              "      <th>0</th>\n",
              "      <td>1</td>\n",
              "      <td>John</td>\n",
              "      <td>25.0</td>\n",
              "      <td>160.0</td>\n",
              "    </tr>\n",
              "    <tr>\n",
              "      <th>1</th>\n",
              "      <td>2</td>\n",
              "      <td>Jimmy</td>\n",
              "      <td>26.0</td>\n",
              "      <td>163.0</td>\n",
              "    </tr>\n",
              "    <tr>\n",
              "      <th>2</th>\n",
              "      <td>3</td>\n",
              "      <td>Felicia</td>\n",
              "      <td>28.0</td>\n",
              "      <td>154.0</td>\n",
              "    </tr>\n",
              "    <tr>\n",
              "      <th>3</th>\n",
              "      <td>4</td>\n",
              "      <td>Sophia</td>\n",
              "      <td>NaN</td>\n",
              "      <td>143.0</td>\n",
              "    </tr>\n",
              "    <tr>\n",
              "      <th>4</th>\n",
              "      <td>5</td>\n",
              "      <td>Bob</td>\n",
              "      <td>NaN</td>\n",
              "      <td>NaN</td>\n",
              "    </tr>\n",
              "    <tr>\n",
              "      <th>5</th>\n",
              "      <td>6</td>\n",
              "      <td>Billy</td>\n",
              "      <td>30.0</td>\n",
              "      <td>156.0</td>\n",
              "    </tr>\n",
              "    <tr>\n",
              "      <th>6</th>\n",
              "      <td>7</td>\n",
              "      <td>Kate</td>\n",
              "      <td>31.0</td>\n",
              "      <td>160.0</td>\n",
              "    </tr>\n",
              "    <tr>\n",
              "      <th>7</th>\n",
              "      <td>8</td>\n",
              "      <td>Will</td>\n",
              "      <td>29.0</td>\n",
              "      <td>NaN</td>\n",
              "    </tr>\n",
              "    <tr>\n",
              "      <th>8</th>\n",
              "      <td>9</td>\n",
              "      <td>Scott</td>\n",
              "      <td>NaN</td>\n",
              "      <td>148.0</td>\n",
              "    </tr>\n",
              "  </tbody>\n",
              "</table>\n",
              "</div>"
            ],
            "text/plain": [
              "   Sno     Name   Age  Height(cm)\n",
              "0    1     John  25.0       160.0\n",
              "1    2    Jimmy  26.0       163.0\n",
              "2    3  Felicia  28.0       154.0\n",
              "3    4   Sophia   NaN       143.0\n",
              "4    5      Bob   NaN         NaN\n",
              "5    6    Billy  30.0       156.0\n",
              "6    7     Kate  31.0       160.0\n",
              "7    8     Will  29.0         NaN\n",
              "8    9    Scott   NaN       148.0"
            ]
          },
          "metadata": {
            "tags": []
          },
          "execution_count": 17
        }
      ]
    },
    {
      "cell_type": "code",
      "metadata": {
        "colab": {
          "base_uri": "https://localhost:8080/",
          "height": 328
        },
        "id": "uFmao3T3LqDw",
        "outputId": "d3f65334-d5b9-43c6-8275-3802d46a4440"
      },
      "source": [
        "dummy_df.fillna(-1)"
      ],
      "execution_count": 18,
      "outputs": [
        {
          "output_type": "execute_result",
          "data": {
            "text/html": [
              "<div>\n",
              "<style scoped>\n",
              "    .dataframe tbody tr th:only-of-type {\n",
              "        vertical-align: middle;\n",
              "    }\n",
              "\n",
              "    .dataframe tbody tr th {\n",
              "        vertical-align: top;\n",
              "    }\n",
              "\n",
              "    .dataframe thead th {\n",
              "        text-align: right;\n",
              "    }\n",
              "</style>\n",
              "<table border=\"1\" class=\"dataframe\">\n",
              "  <thead>\n",
              "    <tr style=\"text-align: right;\">\n",
              "      <th></th>\n",
              "      <th>Sno</th>\n",
              "      <th>Name</th>\n",
              "      <th>Age</th>\n",
              "      <th>Height(cm)</th>\n",
              "    </tr>\n",
              "  </thead>\n",
              "  <tbody>\n",
              "    <tr>\n",
              "      <th>0</th>\n",
              "      <td>1</td>\n",
              "      <td>John</td>\n",
              "      <td>25.0</td>\n",
              "      <td>160.0</td>\n",
              "    </tr>\n",
              "    <tr>\n",
              "      <th>1</th>\n",
              "      <td>2</td>\n",
              "      <td>Jimmy</td>\n",
              "      <td>26.0</td>\n",
              "      <td>163.0</td>\n",
              "    </tr>\n",
              "    <tr>\n",
              "      <th>2</th>\n",
              "      <td>3</td>\n",
              "      <td>Felicia</td>\n",
              "      <td>28.0</td>\n",
              "      <td>154.0</td>\n",
              "    </tr>\n",
              "    <tr>\n",
              "      <th>3</th>\n",
              "      <td>4</td>\n",
              "      <td>Sophia</td>\n",
              "      <td>-1.0</td>\n",
              "      <td>143.0</td>\n",
              "    </tr>\n",
              "    <tr>\n",
              "      <th>4</th>\n",
              "      <td>5</td>\n",
              "      <td>Bob</td>\n",
              "      <td>-1.0</td>\n",
              "      <td>-1.0</td>\n",
              "    </tr>\n",
              "    <tr>\n",
              "      <th>5</th>\n",
              "      <td>6</td>\n",
              "      <td>Billy</td>\n",
              "      <td>30.0</td>\n",
              "      <td>156.0</td>\n",
              "    </tr>\n",
              "    <tr>\n",
              "      <th>6</th>\n",
              "      <td>7</td>\n",
              "      <td>Kate</td>\n",
              "      <td>31.0</td>\n",
              "      <td>160.0</td>\n",
              "    </tr>\n",
              "    <tr>\n",
              "      <th>7</th>\n",
              "      <td>8</td>\n",
              "      <td>Will</td>\n",
              "      <td>29.0</td>\n",
              "      <td>-1.0</td>\n",
              "    </tr>\n",
              "    <tr>\n",
              "      <th>8</th>\n",
              "      <td>9</td>\n",
              "      <td>Scott</td>\n",
              "      <td>-1.0</td>\n",
              "      <td>148.0</td>\n",
              "    </tr>\n",
              "  </tbody>\n",
              "</table>\n",
              "</div>"
            ],
            "text/plain": [
              "   Sno     Name   Age  Height(cm)\n",
              "0    1     John  25.0       160.0\n",
              "1    2    Jimmy  26.0       163.0\n",
              "2    3  Felicia  28.0       154.0\n",
              "3    4   Sophia  -1.0       143.0\n",
              "4    5      Bob  -1.0        -1.0\n",
              "5    6    Billy  30.0       156.0\n",
              "6    7     Kate  31.0       160.0\n",
              "7    8     Will  29.0        -1.0\n",
              "8    9    Scott  -1.0       148.0"
            ]
          },
          "metadata": {
            "tags": []
          },
          "execution_count": 18
        }
      ]
    },
    {
      "cell_type": "markdown",
      "metadata": {
        "id": "jZdC0eypL2Km"
      },
      "source": [
        "**Note**:changes will be permanently reflected only when inplace=True"
      ]
    },
    {
      "cell_type": "code",
      "metadata": {
        "id": "vCn9_5auLyLa"
      },
      "source": [
        "# dummy_df.fillna(inplace=True)"
      ],
      "execution_count": null,
      "outputs": []
    },
    {
      "cell_type": "code",
      "metadata": {
        "colab": {
          "base_uri": "https://localhost:8080/",
          "height": 328
        },
        "id": "nFLNdOehL9zz",
        "outputId": "e3eaf0f5-2f29-40a7-95c6-d2445d58b5b5"
      },
      "source": [
        "dummy_df.bfill()  #Use the next non-null value to fill"
      ],
      "execution_count": 19,
      "outputs": [
        {
          "output_type": "execute_result",
          "data": {
            "text/html": [
              "<div>\n",
              "<style scoped>\n",
              "    .dataframe tbody tr th:only-of-type {\n",
              "        vertical-align: middle;\n",
              "    }\n",
              "\n",
              "    .dataframe tbody tr th {\n",
              "        vertical-align: top;\n",
              "    }\n",
              "\n",
              "    .dataframe thead th {\n",
              "        text-align: right;\n",
              "    }\n",
              "</style>\n",
              "<table border=\"1\" class=\"dataframe\">\n",
              "  <thead>\n",
              "    <tr style=\"text-align: right;\">\n",
              "      <th></th>\n",
              "      <th>Sno</th>\n",
              "      <th>Name</th>\n",
              "      <th>Age</th>\n",
              "      <th>Height(cm)</th>\n",
              "    </tr>\n",
              "  </thead>\n",
              "  <tbody>\n",
              "    <tr>\n",
              "      <th>0</th>\n",
              "      <td>1</td>\n",
              "      <td>John</td>\n",
              "      <td>25.0</td>\n",
              "      <td>160.0</td>\n",
              "    </tr>\n",
              "    <tr>\n",
              "      <th>1</th>\n",
              "      <td>2</td>\n",
              "      <td>Jimmy</td>\n",
              "      <td>26.0</td>\n",
              "      <td>163.0</td>\n",
              "    </tr>\n",
              "    <tr>\n",
              "      <th>2</th>\n",
              "      <td>3</td>\n",
              "      <td>Felicia</td>\n",
              "      <td>28.0</td>\n",
              "      <td>154.0</td>\n",
              "    </tr>\n",
              "    <tr>\n",
              "      <th>3</th>\n",
              "      <td>4</td>\n",
              "      <td>Sophia</td>\n",
              "      <td>30.0</td>\n",
              "      <td>143.0</td>\n",
              "    </tr>\n",
              "    <tr>\n",
              "      <th>4</th>\n",
              "      <td>5</td>\n",
              "      <td>Bob</td>\n",
              "      <td>30.0</td>\n",
              "      <td>156.0</td>\n",
              "    </tr>\n",
              "    <tr>\n",
              "      <th>5</th>\n",
              "      <td>6</td>\n",
              "      <td>Billy</td>\n",
              "      <td>30.0</td>\n",
              "      <td>156.0</td>\n",
              "    </tr>\n",
              "    <tr>\n",
              "      <th>6</th>\n",
              "      <td>7</td>\n",
              "      <td>Kate</td>\n",
              "      <td>31.0</td>\n",
              "      <td>160.0</td>\n",
              "    </tr>\n",
              "    <tr>\n",
              "      <th>7</th>\n",
              "      <td>8</td>\n",
              "      <td>Will</td>\n",
              "      <td>29.0</td>\n",
              "      <td>148.0</td>\n",
              "    </tr>\n",
              "    <tr>\n",
              "      <th>8</th>\n",
              "      <td>9</td>\n",
              "      <td>Scott</td>\n",
              "      <td>NaN</td>\n",
              "      <td>148.0</td>\n",
              "    </tr>\n",
              "  </tbody>\n",
              "</table>\n",
              "</div>"
            ],
            "text/plain": [
              "   Sno     Name   Age  Height(cm)\n",
              "0    1     John  25.0       160.0\n",
              "1    2    Jimmy  26.0       163.0\n",
              "2    3  Felicia  28.0       154.0\n",
              "3    4   Sophia  30.0       143.0\n",
              "4    5      Bob  30.0       156.0\n",
              "5    6    Billy  30.0       156.0\n",
              "6    7     Kate  31.0       160.0\n",
              "7    8     Will  29.0       148.0\n",
              "8    9    Scott   NaN       148.0"
            ]
          },
          "metadata": {
            "tags": []
          },
          "execution_count": 19
        }
      ]
    },
    {
      "cell_type": "code",
      "metadata": {
        "colab": {
          "base_uri": "https://localhost:8080/",
          "height": 328
        },
        "id": "31UkY5YvMCCj",
        "outputId": "52630320-448a-4186-b4ff-dabfe6bf5ff0"
      },
      "source": [
        "dummy_df.ffill() #Use the previous non-null value to fill"
      ],
      "execution_count": 20,
      "outputs": [
        {
          "output_type": "execute_result",
          "data": {
            "text/html": [
              "<div>\n",
              "<style scoped>\n",
              "    .dataframe tbody tr th:only-of-type {\n",
              "        vertical-align: middle;\n",
              "    }\n",
              "\n",
              "    .dataframe tbody tr th {\n",
              "        vertical-align: top;\n",
              "    }\n",
              "\n",
              "    .dataframe thead th {\n",
              "        text-align: right;\n",
              "    }\n",
              "</style>\n",
              "<table border=\"1\" class=\"dataframe\">\n",
              "  <thead>\n",
              "    <tr style=\"text-align: right;\">\n",
              "      <th></th>\n",
              "      <th>Sno</th>\n",
              "      <th>Name</th>\n",
              "      <th>Age</th>\n",
              "      <th>Height(cm)</th>\n",
              "    </tr>\n",
              "  </thead>\n",
              "  <tbody>\n",
              "    <tr>\n",
              "      <th>0</th>\n",
              "      <td>1</td>\n",
              "      <td>John</td>\n",
              "      <td>25.0</td>\n",
              "      <td>160.0</td>\n",
              "    </tr>\n",
              "    <tr>\n",
              "      <th>1</th>\n",
              "      <td>2</td>\n",
              "      <td>Jimmy</td>\n",
              "      <td>26.0</td>\n",
              "      <td>163.0</td>\n",
              "    </tr>\n",
              "    <tr>\n",
              "      <th>2</th>\n",
              "      <td>3</td>\n",
              "      <td>Felicia</td>\n",
              "      <td>28.0</td>\n",
              "      <td>154.0</td>\n",
              "    </tr>\n",
              "    <tr>\n",
              "      <th>3</th>\n",
              "      <td>4</td>\n",
              "      <td>Sophia</td>\n",
              "      <td>28.0</td>\n",
              "      <td>143.0</td>\n",
              "    </tr>\n",
              "    <tr>\n",
              "      <th>4</th>\n",
              "      <td>5</td>\n",
              "      <td>Bob</td>\n",
              "      <td>28.0</td>\n",
              "      <td>143.0</td>\n",
              "    </tr>\n",
              "    <tr>\n",
              "      <th>5</th>\n",
              "      <td>6</td>\n",
              "      <td>Billy</td>\n",
              "      <td>30.0</td>\n",
              "      <td>156.0</td>\n",
              "    </tr>\n",
              "    <tr>\n",
              "      <th>6</th>\n",
              "      <td>7</td>\n",
              "      <td>Kate</td>\n",
              "      <td>31.0</td>\n",
              "      <td>160.0</td>\n",
              "    </tr>\n",
              "    <tr>\n",
              "      <th>7</th>\n",
              "      <td>8</td>\n",
              "      <td>Will</td>\n",
              "      <td>29.0</td>\n",
              "      <td>160.0</td>\n",
              "    </tr>\n",
              "    <tr>\n",
              "      <th>8</th>\n",
              "      <td>9</td>\n",
              "      <td>Scott</td>\n",
              "      <td>29.0</td>\n",
              "      <td>148.0</td>\n",
              "    </tr>\n",
              "  </tbody>\n",
              "</table>\n",
              "</div>"
            ],
            "text/plain": [
              "   Sno     Name   Age  Height(cm)\n",
              "0    1     John  25.0       160.0\n",
              "1    2    Jimmy  26.0       163.0\n",
              "2    3  Felicia  28.0       154.0\n",
              "3    4   Sophia  28.0       143.0\n",
              "4    5      Bob  28.0       143.0\n",
              "5    6    Billy  30.0       156.0\n",
              "6    7     Kate  31.0       160.0\n",
              "7    8     Will  29.0       160.0\n",
              "8    9    Scott  29.0       148.0"
            ]
          },
          "metadata": {
            "tags": []
          },
          "execution_count": 20
        }
      ]
    },
    {
      "cell_type": "markdown",
      "metadata": {
        "id": "a63AUYx2MFf1"
      },
      "source": [
        "### 2.2 Filling with central tendencies"
      ]
    },
    {
      "cell_type": "code",
      "metadata": {
        "id": "B-5f2qylMCcw"
      },
      "source": [
        "mean_age = dummy_df['Age'].mean()\n",
        "mean_height = dummy_df['Height(cm)'].mean()"
      ],
      "execution_count": 21,
      "outputs": []
    },
    {
      "cell_type": "code",
      "metadata": {
        "colab": {
          "base_uri": "https://localhost:8080/"
        },
        "id": "6PHFsimEMLWS",
        "outputId": "321e6cc0-068c-4759-c3a3-a9af367c6e55"
      },
      "source": [
        "map_dict = {'Age': mean_age, 'Height(cm)': mean_height}\n",
        "map_dict"
      ],
      "execution_count": 22,
      "outputs": [
        {
          "output_type": "execute_result",
          "data": {
            "text/plain": [
              "{'Age': 28.166666666666668, 'Height(cm)': 154.85714285714286}"
            ]
          },
          "metadata": {
            "tags": []
          },
          "execution_count": 22
        }
      ]
    },
    {
      "cell_type": "code",
      "metadata": {
        "colab": {
          "base_uri": "https://localhost:8080/",
          "height": 328
        },
        "id": "bd8C2tyzMZL7",
        "outputId": "306e4227-6600-4016-8ecc-aa5ef18f6f44"
      },
      "source": [
        "dummy_df.fillna(value=map_dict)"
      ],
      "execution_count": 23,
      "outputs": [
        {
          "output_type": "execute_result",
          "data": {
            "text/html": [
              "<div>\n",
              "<style scoped>\n",
              "    .dataframe tbody tr th:only-of-type {\n",
              "        vertical-align: middle;\n",
              "    }\n",
              "\n",
              "    .dataframe tbody tr th {\n",
              "        vertical-align: top;\n",
              "    }\n",
              "\n",
              "    .dataframe thead th {\n",
              "        text-align: right;\n",
              "    }\n",
              "</style>\n",
              "<table border=\"1\" class=\"dataframe\">\n",
              "  <thead>\n",
              "    <tr style=\"text-align: right;\">\n",
              "      <th></th>\n",
              "      <th>Sno</th>\n",
              "      <th>Name</th>\n",
              "      <th>Age</th>\n",
              "      <th>Height(cm)</th>\n",
              "    </tr>\n",
              "  </thead>\n",
              "  <tbody>\n",
              "    <tr>\n",
              "      <th>0</th>\n",
              "      <td>1</td>\n",
              "      <td>John</td>\n",
              "      <td>25.000000</td>\n",
              "      <td>160.000000</td>\n",
              "    </tr>\n",
              "    <tr>\n",
              "      <th>1</th>\n",
              "      <td>2</td>\n",
              "      <td>Jimmy</td>\n",
              "      <td>26.000000</td>\n",
              "      <td>163.000000</td>\n",
              "    </tr>\n",
              "    <tr>\n",
              "      <th>2</th>\n",
              "      <td>3</td>\n",
              "      <td>Felicia</td>\n",
              "      <td>28.000000</td>\n",
              "      <td>154.000000</td>\n",
              "    </tr>\n",
              "    <tr>\n",
              "      <th>3</th>\n",
              "      <td>4</td>\n",
              "      <td>Sophia</td>\n",
              "      <td>28.166667</td>\n",
              "      <td>143.000000</td>\n",
              "    </tr>\n",
              "    <tr>\n",
              "      <th>4</th>\n",
              "      <td>5</td>\n",
              "      <td>Bob</td>\n",
              "      <td>28.166667</td>\n",
              "      <td>154.857143</td>\n",
              "    </tr>\n",
              "    <tr>\n",
              "      <th>5</th>\n",
              "      <td>6</td>\n",
              "      <td>Billy</td>\n",
              "      <td>30.000000</td>\n",
              "      <td>156.000000</td>\n",
              "    </tr>\n",
              "    <tr>\n",
              "      <th>6</th>\n",
              "      <td>7</td>\n",
              "      <td>Kate</td>\n",
              "      <td>31.000000</td>\n",
              "      <td>160.000000</td>\n",
              "    </tr>\n",
              "    <tr>\n",
              "      <th>7</th>\n",
              "      <td>8</td>\n",
              "      <td>Will</td>\n",
              "      <td>29.000000</td>\n",
              "      <td>154.857143</td>\n",
              "    </tr>\n",
              "    <tr>\n",
              "      <th>8</th>\n",
              "      <td>9</td>\n",
              "      <td>Scott</td>\n",
              "      <td>28.166667</td>\n",
              "      <td>148.000000</td>\n",
              "    </tr>\n",
              "  </tbody>\n",
              "</table>\n",
              "</div>"
            ],
            "text/plain": [
              "   Sno     Name        Age  Height(cm)\n",
              "0    1     John  25.000000  160.000000\n",
              "1    2    Jimmy  26.000000  163.000000\n",
              "2    3  Felicia  28.000000  154.000000\n",
              "3    4   Sophia  28.166667  143.000000\n",
              "4    5      Bob  28.166667  154.857143\n",
              "5    6    Billy  30.000000  156.000000\n",
              "6    7     Kate  31.000000  160.000000\n",
              "7    8     Will  29.000000  154.857143\n",
              "8    9    Scott  28.166667  148.000000"
            ]
          },
          "metadata": {
            "tags": []
          },
          "execution_count": 23
        }
      ]
    },
    {
      "cell_type": "code",
      "metadata": {
        "id": "0uzXDwlIMZjd"
      },
      "source": [
        ""
      ],
      "execution_count": null,
      "outputs": []
    }
  ]
}