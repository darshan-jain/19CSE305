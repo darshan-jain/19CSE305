{
  "nbformat": 4,
  "nbformat_minor": 0,
  "metadata": {
    "kernelspec": {
      "display_name": "Python 3",
      "language": "python",
      "name": "python3"
    },
    "language_info": {
      "codemirror_mode": {
        "name": "ipython",
        "version": 3
      },
      "file_extension": ".py",
      "mimetype": "text/x-python",
      "name": "python",
      "nbconvert_exporter": "python",
      "pygments_lexer": "ipython3",
      "version": "3.5.2"
    },
    "colab": {
      "name": "4.1_EX1_Basic Statistical Measures.ipynb",
      "provenance": [],
      "include_colab_link": true
    }
  },
  "cells": [
    {
      "cell_type": "markdown",
      "metadata": {
        "id": "view-in-github",
        "colab_type": "text"
      },
      "source": [
        "<a href=\"https://colab.research.google.com/github/darshan-jain/19CSE305-ML/blob/main/4_1_EX1_Basic_Statistical_Measures.ipynb\" target=\"_parent\"><img src=\"https://colab.research.google.com/assets/colab-badge.svg\" alt=\"Open In Colab\"/></a>"
      ]
    },
    {
      "cell_type": "markdown",
      "metadata": {
        "id": "uUDH0eN6Dmch"
      },
      "source": [
        "# **19CSE305:MACHINE LEARNING LAB 4**\n",
        "\n",
        "## Exploratory Data Analysis"
      ]
    },
    {
      "cell_type": "markdown",
      "metadata": {
        "id": "xD_-oDT4DkkJ"
      },
      "source": [
        "# Mean"
      ]
    },
    {
      "cell_type": "code",
      "metadata": {
        "id": "7U0O7q3yDkkO"
      },
      "source": [
        "import numpy as np\n",
        "import pandas as pd"
      ],
      "execution_count": 1,
      "outputs": []
    },
    {
      "cell_type": "code",
      "metadata": {
        "id": "FcCJltyRDkkQ"
      },
      "source": [
        "sample_list = [1, 2, 2, 2, 4, 5, 6, 6, 6, 9, 10, 10, 10, 11, 14, 14, 15, 18, 19, 20]"
      ],
      "execution_count": 2,
      "outputs": []
    },
    {
      "cell_type": "code",
      "metadata": {
        "id": "SEWWtnuaDkkQ"
      },
      "source": [
        "def cal_mean(data):\n",
        "    return sum(data)/(len(data)*1.0)"
      ],
      "execution_count": 3,
      "outputs": []
    },
    {
      "cell_type": "code",
      "metadata": {
        "colab": {
          "base_uri": "https://localhost:8080/"
        },
        "id": "LwMRWLN-DkkT",
        "outputId": "82c4332c-b67b-4b55-ee0f-15676d99b6b8"
      },
      "source": [
        "cal_mean(sample_list)"
      ],
      "execution_count": 4,
      "outputs": [
        {
          "output_type": "execute_result",
          "data": {
            "text/plain": [
              "9.2"
            ]
          },
          "metadata": {
            "tags": []
          },
          "execution_count": 4
        }
      ]
    },
    {
      "cell_type": "code",
      "metadata": {
        "id": "3YEb7uO9DkkV"
      },
      "source": [
        "my_np_list = np.asarray(sample_list)"
      ],
      "execution_count": 5,
      "outputs": []
    },
    {
      "cell_type": "code",
      "metadata": {
        "colab": {
          "base_uri": "https://localhost:8080/"
        },
        "id": "VtF6pooRDkkV",
        "outputId": "c504bec2-117d-4014-c0ac-c2f1fbff475b"
      },
      "source": [
        "np.mean(my_np_list)"
      ],
      "execution_count": 6,
      "outputs": [
        {
          "output_type": "execute_result",
          "data": {
            "text/plain": [
              "9.2"
            ]
          },
          "metadata": {
            "tags": []
          },
          "execution_count": 6
        }
      ]
    },
    {
      "cell_type": "markdown",
      "metadata": {
        "id": "D3MLFzE0DkkW"
      },
      "source": [
        "### How mean is affected by extreme points"
      ]
    },
    {
      "cell_type": "code",
      "metadata": {
        "colab": {
          "base_uri": "https://localhost:8080/"
        },
        "id": "0ilYqrT3DkkX",
        "outputId": "0d1eaea0-3b13-42f6-ba8f-089cc3f9dfe2"
      },
      "source": [
        "sample_list.append(100)\n",
        "print(\"New List:\",sample_list)"
      ],
      "execution_count": 7,
      "outputs": [
        {
          "output_type": "stream",
          "text": [
            "New List: [1, 2, 2, 2, 4, 5, 6, 6, 6, 9, 10, 10, 10, 11, 14, 14, 15, 18, 19, 20, 100]\n"
          ],
          "name": "stdout"
        }
      ]
    },
    {
      "cell_type": "code",
      "metadata": {
        "colab": {
          "base_uri": "https://localhost:8080/"
        },
        "id": "fuBEo_EqDkkX",
        "outputId": "0c87a0c8-f7f3-4d1f-ac1a-6229eef78c7d"
      },
      "source": [
        "cal_mean(sample_list)"
      ],
      "execution_count": 8,
      "outputs": [
        {
          "output_type": "execute_result",
          "data": {
            "text/plain": [
              "13.523809523809524"
            ]
          },
          "metadata": {
            "tags": []
          },
          "execution_count": 8
        }
      ]
    },
    {
      "cell_type": "markdown",
      "metadata": {
        "id": "ehHLnouLDkkY"
      },
      "source": [
        "# Median"
      ]
    },
    {
      "cell_type": "code",
      "metadata": {
        "colab": {
          "base_uri": "https://localhost:8080/"
        },
        "id": "ux5GWAq5DkkY",
        "outputId": "2d763f35-8f3f-47e7-df01-299ea76af10a"
      },
      "source": [
        "np.median(sample_list)"
      ],
      "execution_count": 9,
      "outputs": [
        {
          "output_type": "execute_result",
          "data": {
            "text/plain": [
              "10.0"
            ]
          },
          "metadata": {
            "tags": []
          },
          "execution_count": 9
        }
      ]
    },
    {
      "cell_type": "code",
      "metadata": {
        "colab": {
          "base_uri": "https://localhost:8080/"
        },
        "id": "2zR6kEGRDkkZ",
        "outputId": "63cab9bc-7f35-4c2d-c911-08e410b2f770"
      },
      "source": [
        "sample_list"
      ],
      "execution_count": 10,
      "outputs": [
        {
          "output_type": "execute_result",
          "data": {
            "text/plain": [
              "[1, 2, 2, 2, 4, 5, 6, 6, 6, 9, 10, 10, 10, 11, 14, 14, 15, 18, 19, 20, 100]"
            ]
          },
          "metadata": {
            "tags": []
          },
          "execution_count": 10
        }
      ]
    },
    {
      "cell_type": "code",
      "metadata": {
        "colab": {
          "base_uri": "https://localhost:8080/"
        },
        "id": "Jexs6ueADkka",
        "outputId": "a14715fd-0251-47c0-ae16-7b5a238b5e49"
      },
      "source": [
        "np.median(my_np_list)"
      ],
      "execution_count": 11,
      "outputs": [
        {
          "output_type": "execute_result",
          "data": {
            "text/plain": [
              "9.5"
            ]
          },
          "metadata": {
            "tags": []
          },
          "execution_count": 11
        }
      ]
    },
    {
      "cell_type": "code",
      "metadata": {
        "colab": {
          "base_uri": "https://localhost:8080/"
        },
        "id": "L7f0BjglDkka",
        "outputId": "5b0678fc-0582-4253-f1f2-4b43722e1568"
      },
      "source": [
        "my_np_list"
      ],
      "execution_count": 12,
      "outputs": [
        {
          "output_type": "execute_result",
          "data": {
            "text/plain": [
              "array([ 1,  2,  2,  2,  4,  5,  6,  6,  6,  9, 10, 10, 10, 11, 14, 14, 15,\n",
              "       18, 19, 20])"
            ]
          },
          "metadata": {
            "tags": []
          },
          "execution_count": 12
        }
      ]
    },
    {
      "cell_type": "markdown",
      "metadata": {
        "id": "QU9XPgQFDkkb"
      },
      "source": [
        "# Mode"
      ]
    },
    {
      "cell_type": "code",
      "metadata": {
        "id": "bRycSbTEDkkc"
      },
      "source": [
        "from scipy.stats import mode"
      ],
      "execution_count": 13,
      "outputs": []
    },
    {
      "cell_type": "code",
      "metadata": {
        "colab": {
          "base_uri": "https://localhost:8080/"
        },
        "id": "CJcpTI_xDkkc",
        "outputId": "019cbbe9-10e1-4cd1-8973-7b285269889e"
      },
      "source": [
        "mode(sample_list)"
      ],
      "execution_count": 14,
      "outputs": [
        {
          "output_type": "execute_result",
          "data": {
            "text/plain": [
              "ModeResult(mode=array([2]), count=array([3]))"
            ]
          },
          "metadata": {
            "tags": []
          },
          "execution_count": 14
        }
      ]
    },
    {
      "cell_type": "markdown",
      "metadata": {
        "id": "h-yIsY6aDkkc"
      },
      "source": [
        "## Can be used over non-numeric data"
      ]
    },
    {
      "cell_type": "code",
      "metadata": {
        "id": "M-OUZ9RdDkkd"
      },
      "source": [
        "my_list_str = ['a', 'b', 'c', 'a', 'b', 'b', 'c', 'a', 'a', 'b', 'd']"
      ],
      "execution_count": 15,
      "outputs": []
    },
    {
      "cell_type": "code",
      "metadata": {
        "colab": {
          "base_uri": "https://localhost:8080/"
        },
        "id": "7q4HoHYuDkkd",
        "outputId": "8c5de7b0-1db8-479e-c320-278c86b64ed7"
      },
      "source": [
        "mode(my_list_str)"
      ],
      "execution_count": 16,
      "outputs": [
        {
          "output_type": "execute_result",
          "data": {
            "text/plain": [
              "ModeResult(mode=array(['a'], dtype='<U1'), count=array([4]))"
            ]
          },
          "metadata": {
            "tags": []
          },
          "execution_count": 16
        }
      ]
    },
    {
      "cell_type": "markdown",
      "metadata": {
        "id": "hB4-Dmr_E6Mu"
      },
      "source": [
        "## Variannce and Standard Deviation"
      ]
    },
    {
      "cell_type": "code",
      "metadata": {
        "id": "17TZcnMRDkke"
      },
      "source": [
        "data=np.array([1, 2, 2, 2, 4, 5, 6, 6, 6, 9, 10, 10, 10, 11, 14, 14, 15, 18, 19, 20])"
      ],
      "execution_count": 17,
      "outputs": []
    },
    {
      "cell_type": "markdown",
      "metadata": {
        "id": "qkAmyA4hFffk"
      },
      "source": [
        "**Create the data using np.asarray. Differntiate between np.array and np.asarray**"
      ]
    },
    {
      "cell_type": "code",
      "metadata": {
        "colab": {
          "base_uri": "https://localhost:8080/"
        },
        "id": "OI82RpzJFKYU",
        "outputId": "c199a5dd-fd2a-4412-89f4-dd5ef43c3dc0"
      },
      "source": [
        "np.var(data)"
      ],
      "execution_count": 18,
      "outputs": [
        {
          "output_type": "execute_result",
          "data": {
            "text/plain": [
              "33.66"
            ]
          },
          "metadata": {
            "tags": []
          },
          "execution_count": 18
        }
      ]
    },
    {
      "cell_type": "code",
      "metadata": {
        "colab": {
          "base_uri": "https://localhost:8080/"
        },
        "id": "32ix4fnEFOK5",
        "outputId": "de841a66-c83d-4f7b-a017-915c98797557"
      },
      "source": [
        "np.std(data)"
      ],
      "execution_count": 19,
      "outputs": [
        {
          "output_type": "execute_result",
          "data": {
            "text/plain": [
              "5.801723881744114"
            ]
          },
          "metadata": {
            "tags": []
          },
          "execution_count": 19
        }
      ]
    },
    {
      "cell_type": "markdown",
      "metadata": {
        "id": "66BHCKj7GJnT"
      },
      "source": [
        "##  Visualizing Statistical Measures"
      ]
    },
    {
      "cell_type": "code",
      "metadata": {
        "id": "MGrXdEuDFzyF"
      },
      "source": [
        "import seaborn as sns\n",
        "import matplotlib.pyplot as plt"
      ],
      "execution_count": 20,
      "outputs": []
    },
    {
      "cell_type": "code",
      "metadata": {
        "colab": {
          "base_uri": "https://localhost:8080/"
        },
        "id": "FmvlhDg1GT7I",
        "outputId": "54d9a59e-6f93-4baf-a8dc-ece190dee602"
      },
      "source": [
        "#Create random array of normal distribution\n",
        "x=np.random.normal(50,5,3000)\n",
        "print(x)\n",
        "print(x.shape)"
      ],
      "execution_count": 21,
      "outputs": [
        {
          "output_type": "stream",
          "text": [
            "[50.05587605 58.24468565 56.7260587  ... 57.69042304 47.57269228\n",
            " 45.86390202]\n",
            "(3000,)\n"
          ],
          "name": "stdout"
        }
      ]
    },
    {
      "cell_type": "markdown",
      "metadata": {
        "id": "wVXSDzs0H8KU"
      },
      "source": [
        "## **Excercise 1**\n",
        "\n",
        "Find the maximum and minimum and calculate Max-**Min**"
      ]
    },
    {
      "cell_type": "code",
      "metadata": {
        "colab": {
          "base_uri": "https://localhost:8080/"
        },
        "id": "DSUAOt2kGmSy",
        "outputId": "4827c15f-b659-4de0-8ef6-b07d5644b673"
      },
      "source": [
        "print(\"Max is:\",max(x))\n",
        "print(\"Min is:\",min(x))\n",
        "print(\"Max-Min is:\",max(x)-min(x))\n",
        "#Find the minimum\n",
        "#calculate MAx-Min"
      ],
      "execution_count": 22,
      "outputs": [
        {
          "output_type": "stream",
          "text": [
            "Max is: 68.79531159900245\n",
            "Min is: 34.63500194695786\n",
            "Max-Min is: 34.16030965204459\n"
          ],
          "name": "stdout"
        }
      ]
    },
    {
      "cell_type": "markdown",
      "metadata": {
        "id": "TDRM73NMHN7f"
      },
      "source": [
        "### Frequency Histogram\n"
      ]
    },
    {
      "cell_type": "code",
      "metadata": {
        "colab": {
          "base_uri": "https://localhost:8080/",
          "height": 296
        },
        "id": "8gL-hd2WG0BY",
        "outputId": "12533c02-5b1d-4864-d503-f607165b16b3"
      },
      "source": [
        "#using Matplot lib\n",
        "plt.hist(x)\n",
        "plt.xlabel('Intervals')\n",
        "plt.ylabel('Frequency')"
      ],
      "execution_count": 23,
      "outputs": [
        {
          "output_type": "execute_result",
          "data": {
            "text/plain": [
              "Text(0, 0.5, 'Frequency')"
            ]
          },
          "metadata": {
            "tags": []
          },
          "execution_count": 23
        },
        {
          "output_type": "display_data",
          "data": {
            "image/png": "[encoded data removed]",
            "text/plain": [
              "<Figure size 432x288 with 1 Axes>"
            ]
          },
          "metadata": {
            "tags": [],
            "needs_background": "light"
          }
        }
      ]
    },
    {
      "cell_type": "markdown",
      "metadata": {
        "id": "9iQvXlTfISLg"
      },
      "source": [
        "## **Excercise 2**\n",
        "\n",
        "Plot the frequency histogram using Seaborn. For Seaborn documentation click[ here](https://seaborn.pydata.org/tutorial/distributions.html).\n",
        "\n",
        "\n",
        "\n",
        "*  Plot the histogram with bin size 5\n",
        "*  Plot the histogram with bin size 10\n",
        "*  Plot the histogram with bin size 15\n",
        "*  Plot the histogram with bin size 50\n",
        "*  Plot the histogram with bin size 30\n",
        "\n",
        "Write down your inferences\n",
        "\n",
        "\n",
        "\n"
      ]
    },
    {
      "cell_type": "code",
      "metadata": {
        "colab": {
          "base_uri": "https://localhost:8080/",
          "height": 282
        },
        "id": "1k3_Qo1stfir",
        "outputId": "9a19cbba-c3fc-4e30-c49e-e85dde2e7a90"
      },
      "source": [
        "import pandas as pd\n",
        "import numpy as np\n",
        "import matplotlib.pyplot as plt\n",
        "import seaborn as sns\n",
        "data_url = 'http://bit.ly/2cLzoxH'\n",
        "gapminder = pd.read_csv(data_url)\n",
        "gapminder.head(n=3)\n",
        "gapminder['lifeExp'].hist(bins=100)\n",
        "\n",
        "#bins - default "
      ],
      "execution_count": 47,
      "outputs": [
        {
          "output_type": "execute_result",
          "data": {
            "text/plain": [
              "<matplotlib.axes._subplots.AxesSubplot at 0x7f799a5eed90>"
            ]
          },
          "metadata": {
            "tags": []
          },
          "execution_count": 47
        },
        {
          "output_type": "display_data",
          "data": {
            "image/png": "[encoded data removed]",
            "text/plain": [
              "<Figure size 432x288 with 1 Axes>"
            ]
          },
          "metadata": {
            "tags": [],
            "needs_background": "light"
          }
        }
      ]
    },
    {
      "cell_type": "markdown",
      "metadata": {
        "id": "b6jmTDxqJsVY"
      },
      "source": [
        "## Density Plot\n",
        "\n",
        "KDE(Kernal Density Estimation):A histogram aims to approximate the underlying probability density function that generated the data by binning and counting observations. Kernel density estimation (KDE) presents a different solution to the same problem. Rather than using discrete bins, a KDE plot smooths the observations with a Gaussian kernel, producing a continuous density estimate:"
      ]
    },
    {
      "cell_type": "code",
      "metadata": {
        "colab": {
          "base_uri": "https://localhost:8080/",
          "height": 386
        },
        "id": "_Vw-1S_3HgLS",
        "outputId": "482f7be0-d8f4-4c62-a3ae-89b64df254e5"
      },
      "source": [
        "sns.displot(x,  kind=\"kde\")"
      ],
      "execution_count": 32,
      "outputs": [
        {
          "output_type": "execute_result",
          "data": {
            "text/plain": [
              "<seaborn.axisgrid.FacetGrid at 0x7f79a569f510>"
            ]
          },
          "metadata": {
            "tags": []
          },
          "execution_count": 32
        },
        {
          "output_type": "display_data",
          "data": {
            "image/png": "[encoded data removed]",
            "text/plain": [
              "<Figure size 360x360 with 1 Axes>"
            ]
          },
          "metadata": {
            "tags": [],
            "needs_background": "light"
          }
        }
      ]
    },
    {
      "cell_type": "code",
      "metadata": {
        "colab": {
          "base_uri": "https://localhost:8080/",
          "height": 386
        },
        "id": "uxff1A0EKE28",
        "outputId": "d3df4352-2319-476b-b5a1-dbb7350bc850"
      },
      "source": [
        "sns.displot(x,  kde='True',bins=10)\n",
        "plt.ylabel('Density')"
      ],
      "execution_count": null,
      "outputs": [
        {
          "output_type": "execute_result",
          "data": {
            "text/plain": [
              "Text(3.799999999999997, 0.5, 'Density')"
            ]
          },
          "metadata": {
            "tags": []
          },
          "execution_count": 40
        },
        {
          "output_type": "display_data",
          "data": {
            "image/png": "[encoded data removed]",
            "text/plain": [
              "<Figure size 360x360 with 1 Axes>"
            ]
          },
          "metadata": {
            "tags": [],
            "needs_background": "light"
          }
        }
      ]
    },
    {
      "cell_type": "code",
      "metadata": {
        "colab": {
          "base_uri": "https://localhost:8080/",
          "height": 318
        },
        "id": "EZ7HqX7dKlxw",
        "outputId": "32286c62-4cea-4da8-b60f-60bbed6bddd1"
      },
      "source": [
        "#Plotting mean and median\n",
        "plt.axvline(x.mean(), color='b', linestyle='dashed', linewidth=1)\n",
        "plt.axvline(np.median(x), color='r', linestyle='dashed', linewidth=2)\n",
        "sns.distplot(x, kde=True, bins=30, hist=False)\n",
        "plt.ylabel('Density')\n",
        "plt.show()"
      ],
      "execution_count": null,
      "outputs": [
        {
          "output_type": "stream",
          "text": [
            "/usr/local/lib/python3.7/dist-packages/seaborn/distributions.py:2557: FutureWarning: `distplot` is a deprecated function and will be removed in a future version. Please adapt your code to use either `displot` (a figure-level function with similar flexibility) or `kdeplot` (an axes-level function for kernel density plots).\n",
            "  warnings.warn(msg, FutureWarning)\n"
          ],
          "name": "stderr"
        },
        {
          "output_type": "display_data",
          "data": {
            "image/png": "[encoded data removed]",
            "text/plain": [
              "<Figure size 432x288 with 1 Axes>"
            ]
          },
          "metadata": {
            "tags": [],
            "needs_background": "light"
          }
        }
      ]
    },
    {
      "cell_type": "code",
      "metadata": {
        "colab": {
          "base_uri": "https://localhost:8080/"
        },
        "id": "LdRjjN61K348",
        "outputId": "22550767-639a-450f-cc1d-2f9e33f26b49"
      },
      "source": [
        "print(\"Mean: \", np.mean(x))\n",
        "print(\"Median: \", np.median(x))"
      ],
      "execution_count": null,
      "outputs": [
        {
          "output_type": "stream",
          "text": [
            "Mean:  50.02653575334176\n",
            "Median:  49.94061758373294\n"
          ],
          "name": "stdout"
        }
      ]
    },
    {
      "cell_type": "markdown",
      "metadata": {
        "id": "FZmYpuT-LtOC"
      },
      "source": [
        "## Quartiles"
      ]
    },
    {
      "cell_type": "code",
      "metadata": {
        "colab": {
          "base_uri": "https://localhost:8080/"
        },
        "id": "ot0qa0TvLxod",
        "outputId": "c92da5e5-d672-49d1-d722-86050ed8b896"
      },
      "source": [
        "import numpy as np\n",
        "my_list = [1, 2, 2, 2, 4, 5, 6, 6, 6, 9, 10, 10, 10, 11, 14, 14, 15, 18, 19, 20]\n",
        "print(my_list)"
      ],
      "execution_count": 24,
      "outputs": [
        {
          "output_type": "stream",
          "text": [
            "[1, 2, 2, 2, 4, 5, 6, 6, 6, 9, 10, 10, 10, 11, 14, 14, 15, 18, 19, 20]\n"
          ],
          "name": "stdout"
        }
      ]
    },
    {
      "cell_type": "code",
      "metadata": {
        "colab": {
          "base_uri": "https://localhost:8080/"
        },
        "id": "DCWra8-pL0LD",
        "outputId": "af208ea4-a766-4313-a9dc-e6f6536a552f"
      },
      "source": [
        "np.percentile(my_list, 10)"
      ],
      "execution_count": 25,
      "outputs": [
        {
          "output_type": "execute_result",
          "data": {
            "text/plain": [
              "2.0"
            ]
          },
          "metadata": {
            "tags": []
          },
          "execution_count": 25
        }
      ]
    },
    {
      "cell_type": "code",
      "metadata": {
        "id": "X8Fkpyv9L6c2",
        "colab": {
          "base_uri": "https://localhost:8080/"
        },
        "outputId": "0b056a35-94f0-4c74-cf7d-b904bbc34309"
      },
      "source": [
        "np.percentile(my_list, 65)"
      ],
      "execution_count": 33,
      "outputs": [
        {
          "output_type": "execute_result",
          "data": {
            "text/plain": [
              "10.35"
            ]
          },
          "metadata": {
            "tags": []
          },
          "execution_count": 33
        }
      ]
    },
    {
      "cell_type": "code",
      "metadata": {
        "id": "kUh3xgvLL9en",
        "colab": {
          "base_uri": "https://localhost:8080/"
        },
        "outputId": "dd25475e-6b75-44f0-c8f9-a2491948a7a1"
      },
      "source": [
        "np.percentile(my_list, 99)"
      ],
      "execution_count": 34,
      "outputs": [
        {
          "output_type": "execute_result",
          "data": {
            "text/plain": [
              "19.81"
            ]
          },
          "metadata": {
            "tags": []
          },
          "execution_count": 34
        }
      ]
    },
    {
      "cell_type": "code",
      "metadata": {
        "id": "VkjgNonGL_Wf",
        "colab": {
          "base_uri": "https://localhost:8080/"
        },
        "outputId": "e618cf74-e3aa-4971-bead-e9a83b6b7813"
      },
      "source": [
        "Q1 = np.percentile(my_list,25)\n",
        "Q2 = np.percentile(my_list,50)\n",
        "Q3 = np.percentile(my_list,75)\n",
        "print(\"Q1: \",Q1)\n",
        "print(\"Q2: \",Q2)\n",
        "print(\"Median:\",np.median(my_list))\n",
        "print(\"Q3: \",Q3)\n"
      ],
      "execution_count": 35,
      "outputs": [
        {
          "output_type": "stream",
          "text": [
            "Q1:  4.75\n",
            "Q2:  9.5\n",
            "Median: 9.5\n",
            "Q3:  14.0\n"
          ],
          "name": "stdout"
        }
      ]
    },
    {
      "cell_type": "code",
      "metadata": {
        "id": "bDyl8YvbMYkC",
        "colab": {
          "base_uri": "https://localhost:8080/"
        },
        "outputId": "9101e562-a6a9-4a1c-e042-c8e17ac49c04"
      },
      "source": [
        "IQR=Q3-Q1\n",
        "print(\"Inter Quartile Range: \",IQR)"
      ],
      "execution_count": 36,
      "outputs": [
        {
          "output_type": "stream",
          "text": [
            "Inter Quartile Range:  9.25\n"
          ],
          "name": "stdout"
        }
      ]
    },
    {
      "cell_type": "markdown",
      "metadata": {
        "id": "G9Uh87t9LPlO"
      },
      "source": [
        "## Box Plots"
      ]
    },
    {
      "cell_type": "code",
      "metadata": {
        "colab": {
          "base_uri": "https://localhost:8080/",
          "height": 282
        },
        "id": "OiGd8_RkK_je",
        "outputId": "f0a0dba6-f1a8-456b-9982-c396fe252d45"
      },
      "source": [
        "my_list = [1, 2, 2, 2, 4, 5, 6, 6, 6, 9, 10, 10, 10, 11, 14, 14, 15, 18,19, 20]\n",
        "\n",
        "# Convert the list to dataframe and add column name\n",
        "df = pd.DataFrame(my_list, columns=['Sample data'])\n",
        "\n",
        "# Plot using seaborm\n",
        "sns.boxplot(data=df)\n",
        "\n",
        "# Add ylabel\n",
        "plt.ylabel('Data points')"
      ],
      "execution_count": null,
      "outputs": [
        {
          "output_type": "execute_result",
          "data": {
            "text/plain": [
              "Text(0, 0.5, 'Data points')"
            ]
          },
          "metadata": {
            "tags": []
          },
          "execution_count": 47
        },
        {
          "output_type": "display_data",
          "data": {
            "image/png": "[encoded data removed]",
            "text/plain": [
              "<Figure size 432x288 with 1 Axes>"
            ]
          },
          "metadata": {
            "tags": [],
            "needs_background": "light"
          }
        }
      ]
    },
    {
      "cell_type": "code",
      "metadata": {
        "colab": {
          "base_uri": "https://localhost:8080/"
        },
        "id": "wZdy3GAWLj4S",
        "outputId": "6816ed7d-cee4-42c6-ea8b-fe0207bc2acf"
      },
      "source": [
        "np.percentile(my_list, [25, 50, 75])"
      ],
      "execution_count": 37,
      "outputs": [
        {
          "output_type": "execute_result",
          "data": {
            "text/plain": [
              "array([ 4.75,  9.5 , 14.  ])"
            ]
          },
          "metadata": {
            "tags": []
          },
          "execution_count": 37
        }
      ]
    },
    {
      "cell_type": "markdown",
      "metadata": {
        "id": "BWgik3RBO9-2"
      },
      "source": [
        "### **Using IQR to identify outliers**"
      ]
    },
    {
      "cell_type": "code",
      "metadata": {
        "id": "kYsLau6RPA6E"
      },
      "source": [
        "dummy_age = [20, 21, 24, 24, 28, 26, 19, 22, 26, 24, 21,\n",
        "            19, 22, 28, 29, 6, 100, 25, 25, 28, 31]\n",
        "dummy_height = [150, 151, 155, 153, 280, 160, 158, 157, 158, 145, 150,\n",
        "               155, 155, 151, 152, 153, 160, 152, 157, 157, 160, 153]\n",
        "dummy_df = pd.DataFrame(list(zip(dummy_age, dummy_height)),\n",
        "                        columns =['Age', 'Height(cm)'])"
      ],
      "execution_count": 38,
      "outputs": []
    },
    {
      "cell_type": "code",
      "metadata": {
        "colab": {
          "base_uri": "https://localhost:8080/",
          "height": 700
        },
        "id": "u873aReuPHmL",
        "outputId": "ec28556c-4eca-4277-c531-cdf57dbce440"
      },
      "source": [
        "\n",
        "dummy_df"
      ],
      "execution_count": 39,
      "outputs": [
        {
          "output_type": "execute_result",
          "data": {
            "text/html": [
              "<div>\n",
              "<style scoped>\n",
              "    .dataframe tbody tr th:only-of-type {\n",
              "        vertical-align: middle;\n",
              "    }\n",
              "\n",
              "    .dataframe tbody tr th {\n",
              "        vertical-align: top;\n",
              "    }\n",
              "\n",
              "    .dataframe thead th {\n",
              "        text-align: right;\n",
              "    }\n",
              "</style>\n",
              "<table border=\"1\" class=\"dataframe\">\n",
              "  <thead>\n",
              "    <tr style=\"text-align: right;\">\n",
              "      <th></th>\n",
              "      <th>Age</th>\n",
              "      <th>Height(cm)</th>\n",
              "    </tr>\n",
              "  </thead>\n",
              "  <tbody>\n",
              "    <tr>\n",
              "      <th>0</th>\n",
              "      <td>20</td>\n",
              "      <td>150</td>\n",
              "    </tr>\n",
              "    <tr>\n",
              "      <th>1</th>\n",
              "      <td>21</td>\n",
              "      <td>151</td>\n",
              "    </tr>\n",
              "    <tr>\n",
              "      <th>2</th>\n",
              "      <td>24</td>\n",
              "      <td>155</td>\n",
              "    </tr>\n",
              "    <tr>\n",
              "      <th>3</th>\n",
              "      <td>24</td>\n",
              "      <td>153</td>\n",
              "    </tr>\n",
              "    <tr>\n",
              "      <th>4</th>\n",
              "      <td>28</td>\n",
              "      <td>280</td>\n",
              "    </tr>\n",
              "    <tr>\n",
              "      <th>5</th>\n",
              "      <td>26</td>\n",
              "      <td>160</td>\n",
              "    </tr>\n",
              "    <tr>\n",
              "      <th>6</th>\n",
              "      <td>19</td>\n",
              "      <td>158</td>\n",
              "    </tr>\n",
              "    <tr>\n",
              "      <th>7</th>\n",
              "      <td>22</td>\n",
              "      <td>157</td>\n",
              "    </tr>\n",
              "    <tr>\n",
              "      <th>8</th>\n",
              "      <td>26</td>\n",
              "      <td>158</td>\n",
              "    </tr>\n",
              "    <tr>\n",
              "      <th>9</th>\n",
              "      <td>24</td>\n",
              "      <td>145</td>\n",
              "    </tr>\n",
              "    <tr>\n",
              "      <th>10</th>\n",
              "      <td>21</td>\n",
              "      <td>150</td>\n",
              "    </tr>\n",
              "    <tr>\n",
              "      <th>11</th>\n",
              "      <td>19</td>\n",
              "      <td>155</td>\n",
              "    </tr>\n",
              "    <tr>\n",
              "      <th>12</th>\n",
              "      <td>22</td>\n",
              "      <td>155</td>\n",
              "    </tr>\n",
              "    <tr>\n",
              "      <th>13</th>\n",
              "      <td>28</td>\n",
              "      <td>151</td>\n",
              "    </tr>\n",
              "    <tr>\n",
              "      <th>14</th>\n",
              "      <td>29</td>\n",
              "      <td>152</td>\n",
              "    </tr>\n",
              "    <tr>\n",
              "      <th>15</th>\n",
              "      <td>6</td>\n",
              "      <td>153</td>\n",
              "    </tr>\n",
              "    <tr>\n",
              "      <th>16</th>\n",
              "      <td>100</td>\n",
              "      <td>160</td>\n",
              "    </tr>\n",
              "    <tr>\n",
              "      <th>17</th>\n",
              "      <td>25</td>\n",
              "      <td>152</td>\n",
              "    </tr>\n",
              "    <tr>\n",
              "      <th>18</th>\n",
              "      <td>25</td>\n",
              "      <td>157</td>\n",
              "    </tr>\n",
              "    <tr>\n",
              "      <th>19</th>\n",
              "      <td>28</td>\n",
              "      <td>157</td>\n",
              "    </tr>\n",
              "    <tr>\n",
              "      <th>20</th>\n",
              "      <td>31</td>\n",
              "      <td>160</td>\n",
              "    </tr>\n",
              "  </tbody>\n",
              "</table>\n",
              "</div>"
            ],
            "text/plain": [
              "    Age  Height(cm)\n",
              "0    20         150\n",
              "1    21         151\n",
              "2    24         155\n",
              "3    24         153\n",
              "4    28         280\n",
              "5    26         160\n",
              "6    19         158\n",
              "7    22         157\n",
              "8    26         158\n",
              "9    24         145\n",
              "10   21         150\n",
              "11   19         155\n",
              "12   22         155\n",
              "13   28         151\n",
              "14   29         152\n",
              "15    6         153\n",
              "16  100         160\n",
              "17   25         152\n",
              "18   25         157\n",
              "19   28         157\n",
              "20   31         160"
            ]
          },
          "metadata": {
            "tags": []
          },
          "execution_count": 39
        }
      ]
    },
    {
      "cell_type": "code",
      "metadata": {
        "id": "DiwQyWjtPIJH"
      },
      "source": [
        "def get_lower_upper_bound(my_data):\n",
        "    # Get first and third quartile\n",
        "    q1 = np.percentile(my_data, 25)\n",
        "    q3 = np.percentile(my_data, 75)\n",
        "    \n",
        "    # Calculate Interquartile range\n",
        "    iqr = q3 - q1\n",
        "    \n",
        "    # Compute lower and upper bound\n",
        "    lower_bound = q1 - (iqr * 1.5)\n",
        "    upper_bound = q3 + (iqr * 1.5)\n",
        "    \n",
        "    return lower_bound, upper_bound"
      ],
      "execution_count": 40,
      "outputs": []
    },
    {
      "cell_type": "code",
      "metadata": {
        "id": "_83UbHB-POQm"
      },
      "source": [
        "def get_outliers_iqr(my_data):\n",
        "    lower_bound, upper_bound = get_lower_upper_bound(my_data)\n",
        "    # Filter data less than lower bound and more than upper bound\n",
        "    return my_data[np.where((my_data > upper_bound) |\n",
        "                            (my_data < lower_bound))]"
      ],
      "execution_count": 41,
      "outputs": []
    },
    {
      "cell_type": "code",
      "metadata": {
        "colab": {
          "base_uri": "https://localhost:8080/"
        },
        "id": "BbifhK_nPQiS",
        "outputId": "f730e516-edc8-4012-d92a-15d269c9616f"
      },
      "source": [
        "\n",
        "get_outliers_iqr(dummy_df['Age'].values)"
      ],
      "execution_count": 42,
      "outputs": [
        {
          "output_type": "execute_result",
          "data": {
            "text/plain": [
              "array([  6, 100])"
            ]
          },
          "metadata": {
            "tags": []
          },
          "execution_count": 42
        }
      ]
    },
    {
      "cell_type": "code",
      "metadata": {
        "colab": {
          "base_uri": "https://localhost:8080/"
        },
        "id": "S_MomuKUPSfy",
        "outputId": "1ccc9ed0-c404-4f9d-8896-ab967a1aa5c9"
      },
      "source": [
        "get_outliers_iqr(dummy_df['Height(cm)'].values)"
      ],
      "execution_count": 43,
      "outputs": [
        {
          "output_type": "execute_result",
          "data": {
            "text/plain": [
              "array([280])"
            ]
          },
          "metadata": {
            "tags": []
          },
          "execution_count": 43
        }
      ]
    },
    {
      "cell_type": "code",
      "metadata": {
        "colab": {
          "base_uri": "https://localhost:8080/",
          "height": 282
        },
        "id": "uu4sPmXGPUSz",
        "outputId": "a1032d9c-a7e3-4c59-b00e-a5604dd737e1"
      },
      "source": [
        "dummy_df.boxplot(column=['Age'])"
      ],
      "execution_count": 44,
      "outputs": [
        {
          "output_type": "execute_result",
          "data": {
            "text/plain": [
              "<matplotlib.axes._subplots.AxesSubplot at 0x7f799a707750>"
            ]
          },
          "metadata": {
            "tags": []
          },
          "execution_count": 44
        },
        {
          "output_type": "display_data",
          "data": {
            "image/png": "[encoded data removed]",
            "text/plain": [
              "<Figure size 432x288 with 1 Axes>"
            ]
          },
          "metadata": {
            "tags": [],
            "needs_background": "light"
          }
        }
      ]
    },
    {
      "cell_type": "code",
      "metadata": {
        "colab": {
          "base_uri": "https://localhost:8080/",
          "height": 282
        },
        "id": "grtyVvCRPWS8",
        "outputId": "ef23c190-5bc3-4e21-e1a3-c97bcbb48ac9"
      },
      "source": [
        "dummy_df.boxplot(column=['Height(cm)'])"
      ],
      "execution_count": 45,
      "outputs": [
        {
          "output_type": "execute_result",
          "data": {
            "text/plain": [
              "<matplotlib.axes._subplots.AxesSubplot at 0x7f799a678390>"
            ]
          },
          "metadata": {
            "tags": []
          },
          "execution_count": 45
        },
        {
          "output_type": "display_data",
          "data": {
            "image/png": "[encoded data removed]",
            "text/plain": [
              "<Figure size 432x288 with 1 Axes>"
            ]
          },
          "metadata": {
            "tags": [],
            "needs_background": "light"
          }
        }
      ]
    },
    {
      "cell_type": "markdown",
      "metadata": {
        "id": "IIVK3IS0HnMi"
      },
      "source": [
        "### **Find the Outliers using Z score**\n",
        "\n",
        "[Click here](https://www.statisticshowto.com/probability-and-statistics/z-score/) to read about What is Z score??\n",
        "\n",
        "[Click here ](https://medium.com/clarusway/z-score-and-how-its-used-to-determine-an-outlier-642110f3b482)to read about outlier detection using Z score"
      ]
    },
    {
      "cell_type": "code",
      "metadata": {
        "id": "p1qegfHYPaUL",
        "colab": {
          "base_uri": "https://localhost:8080/"
        },
        "outputId": "523c8fc6-d306-40ca-97f7-78f7d52cbf04"
      },
      "source": [
        "\n",
        "import numpy as np \n",
        "data = [1, 2, 2, 2, 3, 1, 1, 15, 2, 2, 2, 3, 1, 1, 2]\n",
        "mean = np.mean(data)\n",
        "std = np.std(data)\n",
        "print('mean of the dataset is', mean)\n",
        "print('std. deviation is', std)\n",
        "threshold = 3\n",
        "outlier = []\n",
        "for i in data:\n",
        "    z = (i-mean)/std\n",
        "    if z > threshold:\n",
        "        outlier.append(i)\n",
        "print('outlier in dataset is', outlier)"
      ],
      "execution_count": 48,
      "outputs": [
        {
          "output_type": "stream",
          "text": [
            "mean of the dataset is 2.6666666666666665\n",
            "std. deviation is 3.3598941782277745\n",
            "outlier in dataset is [15]\n"
          ],
          "name": "stdout"
        }
      ]
    },
    {
      "cell_type": "code",
      "metadata": {
        "id": "CAcepouA-5ia"
      },
      "source": [
        ""
      ],
      "execution_count": null,
      "outputs": []
    }
  ]
}