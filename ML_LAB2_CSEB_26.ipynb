{
  "nbformat": 4,
  "nbformat_minor": 0,
  "metadata": {
    "colab": {
      "name": "ML_LAB2_CSEB_26.ipynb",
      "provenance": [],
      "collapsed_sections": [],
      "include_colab_link": true
    },
    "kernelspec": {
      "name": "python3",
      "display_name": "Python 3"
    },
    "language_info": {
      "name": "python"
    }
  },
  "cells": [
    {
      "cell_type": "markdown",
      "metadata": {
        "id": "view-in-github",
        "colab_type": "text"
      },
      "source": [
        "<a href=\"https://colab.research.google.com/github/darshan-jain/19CSE305/blob/main/ML_LAB2_CSEB_26.ipynb\" target=\"_parent\"><img src=\"https://colab.research.google.com/assets/colab-badge.svg\" alt=\"Open In Colab\"/></a>"
      ]
    },
    {
      "cell_type": "markdown",
      "metadata": {
        "id": "chcMMiJKcqyJ"
      },
      "source": [
        "# **19CSE305: MACHINE LEARNING LAB 2**\n",
        "\n",
        "PYTHON BASICS : EXCERCISES"
      ]
    },
    {
      "cell_type": "markdown",
      "metadata": {
        "id": "0Q-TStVVdFaA"
      },
      "source": [
        "ROLL NUMBER: CB.EN.U4CSE19126\n",
        "Name: M.Darshan"
      ]
    },
    {
      "cell_type": "code",
      "metadata": {
        "id": "hrgW4a0CJs34"
      },
      "source": [
        "PYTHON BASIC EXCERSISE\n",
        "\n",
        "1) Get the values P,t,R from user and calculate compound interest.Formula to calculate compound interest annually is given by: \n",
        "        A = P(1 + R/100) t\n",
        "        CI= A – P\n",
        "        Input : Principle, Time, Rate\n",
        "        Output : Compound Interest\n",
        "2) Given a list of strings( Entered by the user), write program to get a percentage share of each word in the strings list.\n",
        "          percentage := (Occurrence of a word / Total words) * 100\n",
        "3)Check if  the binary representation of a number is Palindrome or not. Given an integer ‘n’( Entered by the user), write a Python function that returns true if binary representation of x is palindrome else return false.\n",
        "4)Write a program to check if all digits of a number divide it. Given a number n( Entered by the user), find whether all digits of n divide it or not.\n",
        "5)Given a list of numbers ( Entered by the user), write a program to find the second largest number in that list.\n",
        "        Input: [1, 2, 3, 4 ,5]\n",
        "        Output: 4\n",
        "\n",
        "NUMPY BASIC EXCERSISE\n",
        "\n",
        "1) Create a 3D array of shape 4*5*2 that contains random decimal numbers between 1 and 10.\n",
        "2) Create a randomly created 1D array and Convert it to a 2D array with 2 rows.\n",
        "3) Given a NumPy array of temperature values, convert the values of Centigrade degrees into Fahrenheit degrees. \n",
        "4) Write a NumPy program to count the number of dimensions, number of elements and number of bytes for each element in a given array.\n",
        "5) Write a NumPy program to extract third and second elements of the first and second rows from a given (3x4) array"
      ],
      "execution_count": null,
      "outputs": []
    },
    {
      "cell_type": "code",
      "metadata": {
        "colab": {
          "base_uri": "https://localhost:8080/"
        },
        "id": "RYq8dYKuxkdl",
        "outputId": "c3030f40-1d29-46f6-909e-0efcd56d7068"
      },
      "source": [
        "print(\"enter principle:\")\n",
        "P = int(input())\n",
        "print(\"enter time:\")\n",
        "t = int(input())\n",
        "print(\"enter rate:\")\n",
        "R = int(input())\n",
        "a = P*(1+(R/100))*t\n",
        "ci = a - P\n",
        "print(\"Compound Interest =\",ci)"
      ],
      "execution_count": 1,
      "outputs": [
        {
          "output_type": "stream",
          "text": [
            "enter principle:\n",
            "10000\n",
            "enter time:\n",
            "5\n",
            "enter rate:\n",
            "5\n",
            "Compound Interest = 42500.0\n"
          ],
          "name": "stdout"
        }
      ]
    },
    {
      "cell_type": "code",
      "metadata": {
        "colab": {
          "base_uri": "https://localhost:8080/"
        },
        "id": "p5uMrrhvxm1q",
        "outputId": "4659da46-90af-4b70-b97c-3f9e2bc3b45b"
      },
      "source": [
        "c=list(map (str, input().split()))\n",
        "d={}\n",
        "for i in c:\n",
        "  if i not in d:\n",
        "    d[i]=1;\n",
        "  else:\n",
        "    d[i]+=1\n",
        "\n",
        "for i in d.keys():\n",
        "  print(\"key \",i,\"percentage \",float(d[i]*100/len(c)))"
      ],
      "execution_count": 34,
      "outputs": [
        {
          "output_type": "stream",
          "text": [
            "darshan darshan\n",
            "key  darshan percentage  100.0\n"
          ],
          "name": "stdout"
        }
      ]
    },
    {
      "cell_type": "code",
      "metadata": {
        "colab": {
          "base_uri": "https://localhost:8080/"
        },
        "id": "cWlZWU-LxnGL",
        "outputId": "7603d674-fa06-4ba4-f38a-31ae3e4dc714"
      },
      "source": [
        "\n",
        "def isPalindrome(n):\n",
        "    rev = 0\n",
        "    k = n\n",
        "    while k > 0:\n",
        "        rev = (rev << 1) | (k & 1)\n",
        "        k = k >> 1          \n",
        "    return n == rev\n",
        " \n",
        " \n",
        "if __name__ == '__main__':\n",
        " \n",
        "    n = int(input())  \n",
        " \n",
        "    if isPalindrome(n):\n",
        "        print(n, \"is a palindrome\")\n",
        "    else:\n",
        "        print(n, \"is not a palindrome\")\n",
        " "
      ],
      "execution_count": 3,
      "outputs": [
        {
          "output_type": "stream",
          "text": [
            "15\n",
            "15 is a palindrome\n"
          ],
          "name": "stdout"
        }
      ]
    },
    {
      "cell_type": "code",
      "metadata": {
        "colab": {
          "base_uri": "https://localhost:8080/"
        },
        "id": "M9AU7sie7Axs",
        "outputId": "fb39789f-dfe1-458a-82e5-d33d335006b7"
      },
      "source": [
        " def check_divisible(number):\n",
        "  temp = number\n",
        "  while(temp > 0):\n",
        "    digit = number % 10\n",
        "    if (digit != 0 and number % digit==0):\n",
        "      return False\n",
        "    temp = temp // 10\n",
        "  return True\n",
        "num = int(input(\"ENTER A NUMBER : \"))\n",
        "if(check_divisible(num)):\n",
        "  print(\"ALL THE DIGITS OF NUMBER\",num,\"DIVIDE IT\")\n",
        "else :\n",
        "  print(\"ALL THE DIGITS OF NUMBER\",num,\"DONOT DIVIDE IT\")"
      ],
      "execution_count": 31,
      "outputs": [
        {
          "output_type": "stream",
          "text": [
            "ENTER A NUMBER : 123\n",
            "ALL THE DIGITS OF NUMBER 123 DONOT DIVIDE IT\n"
          ],
          "name": "stdout"
        }
      ]
    },
    {
      "cell_type": "code",
      "metadata": {
        "colab": {
          "base_uri": "https://localhost:8080/"
        },
        "id": "58EdigmCzV-1",
        "outputId": "c0ed4a68-7955-4f95-b363-ee914885b4a2"
      },
      "source": [
        "li=[]\n",
        "print(\"enter number of elements:\")\n",
        "n=int(input())\n",
        "print(\"enter elements:\")\n",
        "for i in range(0,n):\n",
        "  ele = int(input())\n",
        "  li.append(ele)\n",
        "li.sort()\n",
        "print(\"Second Largest:\")\n",
        "print(li[n-2])"
      ],
      "execution_count": 11,
      "outputs": [
        {
          "output_type": "stream",
          "text": [
            "enter number of elements:\n",
            "5\n",
            "enter elements:\n",
            "34\n",
            "12\n",
            "45\n",
            "76\n",
            "31\n",
            "Second Largest:\n",
            "45\n"
          ],
          "name": "stdout"
        }
      ]
    },
    {
      "cell_type": "code",
      "metadata": {
        "id": "5sQoYCpAzz0E"
      },
      "source": [
        ""
      ],
      "execution_count": null,
      "outputs": []
    },
    {
      "cell_type": "markdown",
      "metadata": {
        "id": "RK9zBfcj1S17"
      },
      "source": [
        "Numpy Solutions\n"
      ]
    },
    {
      "cell_type": "code",
      "metadata": {
        "colab": {
          "base_uri": "https://localhost:8080/"
        },
        "id": "Qxe9kpdm1UoA",
        "outputId": "a6763fef-39bb-455d-b937-776e62cc074d"
      },
      "source": [
        "import numpy as np\n",
        "\n",
        "array = np.random.rand(4, 5 ,2)\n",
        "print(\"\\n\\n3D Array filled with random values : \\n\", array);"
      ],
      "execution_count": 12,
      "outputs": [
        {
          "output_type": "stream",
          "text": [
            "\n",
            "\n",
            "3D Array filled with random values : \n",
            " [[[0.07458723 0.13672046]\n",
            "  [0.20218942 0.03875503]\n",
            "  [0.29711608 0.67644575]\n",
            "  [0.036677   0.30665339]\n",
            "  [0.67011567 0.52038428]]\n",
            "\n",
            " [[0.14423603 0.89017443]\n",
            "  [0.40161661 0.99001262]\n",
            "  [0.85517679 0.02143517]\n",
            "  [0.70904155 0.0846849 ]\n",
            "  [0.38997081 0.60898082]]\n",
            "\n",
            " [[0.71859009 0.19036503]\n",
            "  [0.65756593 0.79201283]\n",
            "  [0.74710945 0.1075881 ]\n",
            "  [0.13850933 0.41817042]\n",
            "  [0.42767889 0.62110701]]\n",
            "\n",
            " [[0.53485191 0.2652874 ]\n",
            "  [0.694626   0.48478064]\n",
            "  [0.73511347 0.47817966]\n",
            "  [0.93040405 0.14820578]\n",
            "  [0.84281508 0.80580224]]]\n"
          ],
          "name": "stdout"
        }
      ]
    },
    {
      "cell_type": "code",
      "metadata": {
        "colab": {
          "base_uri": "https://localhost:8080/"
        },
        "id": "FifPzsgp2FEO",
        "outputId": "5473747b-38be-470c-9bb1-57e7c59e8aa2"
      },
      "source": [
        "import numpy as np\n",
        "\n",
        "array = np.random.rand(6)\n",
        "print(\"1D Array filled with random values : \\n\", array);\n",
        "array.reshape(2,3)"
      ],
      "execution_count": 15,
      "outputs": [
        {
          "output_type": "stream",
          "text": [
            "1D Array filled with random values : \n",
            " [0.9714667  0.11470446 0.74607613 0.47721097 0.41947546 0.00571027]\n"
          ],
          "name": "stdout"
        },
        {
          "output_type": "execute_result",
          "data": {
            "text/plain": [
              "array([[0.9714667 , 0.11470446, 0.74607613],\n",
              "       [0.47721097, 0.41947546, 0.00571027]])"
            ]
          },
          "metadata": {
            "tags": []
          },
          "execution_count": 15
        }
      ]
    },
    {
      "cell_type": "code",
      "metadata": {
        "colab": {
          "base_uri": "https://localhost:8080/"
        },
        "id": "xCAj5tFj2aaK",
        "outputId": "19c14bf7-58e0-4db4-a693-5c997edbea7a"
      },
      "source": [
        "import numpy as np\n",
        "temp = [11, 3, 21, 21,100]\n",
        "F = np.array(temp)\n",
        "print(\"F: \")\n",
        "print(F)\n",
        "print(\"C:\") \n",
        "print(5*F/9 - 5*32/9)"
      ],
      "execution_count": 17,
      "outputs": [
        {
          "output_type": "stream",
          "text": [
            "F: \n",
            "[ 11   3  21  21 100]\n",
            "C:\n",
            "[-11.66666667 -16.11111111  -6.11111111  -6.11111111  37.77777778]\n"
          ],
          "name": "stdout"
        }
      ]
    },
    {
      "cell_type": "code",
      "metadata": {
        "colab": {
          "base_uri": "https://localhost:8080/"
        },
        "id": "c5b302uc2_R-",
        "outputId": "6f1650c5-8dd2-4b75-95b9-ace87a25ed08"
      },
      "source": [
        "import numpy as np    \n",
        "\n",
        "x = np.array([[ 11,3,4,2,1,7,6,5,9,8,0,1,10],\n",
        "       [13,14,12,16,15,18,17,20,19,22,21,23]])\n",
        "print(\"\\nNumber of dimensions:\")\n",
        "print(x.ndim)\n",
        "print(\"Number of elements:\")\n",
        "print(x.size)\n",
        "print(\"Number of bytes for each element in the said array:\")\n",
        "print(x.itemsize) "
      ],
      "execution_count": 18,
      "outputs": [
        {
          "output_type": "stream",
          "text": [
            "\n",
            "Original arrays:\n",
            "[list([11, 3, 4, 2, 1, 7, 6, 5, 9, 8, 0, 1, 10])\n",
            " list([13, 14, 12, 16, 15, 18, 17, 20, 19, 22, 21, 23])]\n",
            "\n",
            "Number of dimensions:\n",
            "1\n",
            "Number of elements:\n",
            "2\n",
            "Number of bytes for each element in the said array:\n",
            "8\n"
          ],
          "name": "stdout"
        },
        {
          "output_type": "stream",
          "text": [
            "/usr/local/lib/python3.7/dist-packages/ipykernel_launcher.py:4: VisibleDeprecationWarning: Creating an ndarray from ragged nested sequences (which is a list-or-tuple of lists-or-tuples-or ndarrays with different lengths or shapes) is deprecated. If you meant to do this, you must specify 'dtype=object' when creating the ndarray\n",
            "  after removing the cwd from sys.path.\n"
          ],
          "name": "stderr"
        }
      ]
    },
    {
      "cell_type": "code",
      "metadata": {
        "colab": {
          "base_uri": "https://localhost:8080/"
        },
        "id": "Uo_DPDgY3ivO",
        "outputId": "a3b3869a-a962-49dc-9edb-f91f55777af9"
      },
      "source": [
        "import numpy as np\n",
        "arr = [1,2,3,4,5,6,7,8,9,10,11,12]\n",
        "array = np.array(arr)\n",
        "array=array.reshape(3,4)\n",
        "print(\"Original array:\")\n",
        "print(arr)\n",
        "print(\"expected data:\")\n",
        "print(array)\n",
        "print(array[0:2, 1:3])"
      ],
      "execution_count": 30,
      "outputs": [
        {
          "output_type": "stream",
          "text": [
            "Original array:\n",
            "[1, 2, 3, 4, 5, 6, 7, 8, 9, 10, 11, 12]\n",
            "expected data:\n",
            "[[ 1  2  3  4]\n",
            " [ 5  6  7  8]\n",
            " [ 9 10 11 12]]\n",
            "[[2 3]\n",
            " [6 7]]\n"
          ],
          "name": "stdout"
        }
      ]
    },
    {
      "cell_type": "code",
      "metadata": {
        "id": "QYquzIl14v7S"
      },
      "source": [
        ""
      ],
      "execution_count": null,
      "outputs": []
    }
  ]
}